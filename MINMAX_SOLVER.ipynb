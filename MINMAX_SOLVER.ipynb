{
 "cells": [
  {
   "cell_type": "code",
   "execution_count": null,
   "id": "younger-microwave",
   "metadata": {},
   "outputs": [],
   "source": [
    "'''\n",
    "    인풋으로 N개의 정수로 된 어레이를 받아, 어레이에 속한 정해진 원소 수 n을 이용해서 \n",
    "    MINIMUM SUM과 MAXIMUM SUM을 계산합니다.\n",
    "''' "
   ]
  },
  {
   "cell_type": "code",
   "execution_count": 11,
   "id": "productive-apache",
   "metadata": {},
   "outputs": [],
   "source": [
    "import random"
   ]
  },
  {
   "cell_type": "code",
   "execution_count": 12,
   "id": "limited-greensboro",
   "metadata": {},
   "outputs": [],
   "source": [
    "data = random.sample(range(1, 10000), 10)"
   ]
  },
  {
   "cell_type": "code",
   "execution_count": 13,
   "id": "present-little",
   "metadata": {},
   "outputs": [
    {
     "data": {
      "text/plain": [
       "[1519, 4881, 6465, 1952, 7620, 6042, 8324, 8555, 2551, 7607]"
      ]
     },
     "execution_count": 13,
     "metadata": {},
     "output_type": "execute_result"
    }
   ],
   "source": [
    "data"
   ]
  },
  {
   "cell_type": "code",
   "execution_count": 22,
   "id": "institutional-notification",
   "metadata": {},
   "outputs": [],
   "source": [
    "# Complete the miniMaxSum function below.\n",
    "def get_min_set(arr, how_many_nums):\n",
    "    min_sum = 0\n",
    "    min_set = set()\n",
    "    data_set = set(arr)\n",
    "    for _ in range(how_many_nums):\n",
    "        try:\n",
    "            min_set.add(min(data_set.difference(min_set)))   \n",
    "        except:\n",
    "            break\n",
    "            \n",
    "    return min_set\n",
    "\n",
    "def get_max_set(arr, how_many_nums):\n",
    "    max_sum = 0\n",
    "    max_set = set()\n",
    "    data_set = set(arr)\n",
    "    for _ in range(how_many_nums):\n",
    "        try:\n",
    "            max_set.add(max(data_set.difference(max_set)))\n",
    "        except:\n",
    "            break\n",
    "\n",
    "def get_sum(a_set, how_many_nums):\n",
    "    if len(a_set) < how_many_nums:\n",
    "        set_sum = sum(a_set) + (sum(a_set) *(how_many_nums-len(a_set)))\n",
    "    else:\n",
    "        set_sum = sum(a_set)\n",
    "    return set_sum\n",
    "    \n",
    "def minMaxSum(data, n):\n",
    "    min_sum = get_sum(get_min_set(data, n), n)\n",
    "    max_sum = get_sum(get_max_set(data, n), n)\n",
    "    return min_sum, max_sum"
   ]
  },
  {
   "cell_type": "code",
   "execution_count": 23,
   "id": "eleven-camera",
   "metadata": {},
   "outputs": [
    {
     "ename": "TypeError",
     "evalue": "object of type 'NoneType' has no len()",
     "output_type": "error",
     "traceback": [
      "\u001b[0;31m---------------------------------------------------------------------------\u001b[0m",
      "\u001b[0;31mTypeError\u001b[0m                                 Traceback (most recent call last)",
      "\u001b[0;32m<ipython-input-23-58eea7d07441>\u001b[0m in \u001b[0;36m<module>\u001b[0;34m\u001b[0m\n\u001b[0;32m----> 1\u001b[0;31m \u001b[0mmin_sum\u001b[0m\u001b[0;34m,\u001b[0m \u001b[0mmax_sum\u001b[0m \u001b[0;34m=\u001b[0m \u001b[0mminMaxSum\u001b[0m\u001b[0;34m(\u001b[0m\u001b[0mdata\u001b[0m\u001b[0;34m,\u001b[0m \u001b[0;36m5\u001b[0m\u001b[0;34m)\u001b[0m\u001b[0;34m\u001b[0m\u001b[0;34m\u001b[0m\u001b[0m\n\u001b[0m",
      "\u001b[0;32m<ipython-input-22-11a6f2ebb40b>\u001b[0m in \u001b[0;36mminMaxSum\u001b[0;34m(data, n)\u001b[0m\n\u001b[1;32m     31\u001b[0m \u001b[0;32mdef\u001b[0m \u001b[0mminMaxSum\u001b[0m\u001b[0;34m(\u001b[0m\u001b[0mdata\u001b[0m\u001b[0;34m,\u001b[0m \u001b[0mn\u001b[0m\u001b[0;34m)\u001b[0m\u001b[0;34m:\u001b[0m\u001b[0;34m\u001b[0m\u001b[0;34m\u001b[0m\u001b[0m\n\u001b[1;32m     32\u001b[0m     \u001b[0mmin_sum\u001b[0m \u001b[0;34m=\u001b[0m \u001b[0mget_sum\u001b[0m\u001b[0;34m(\u001b[0m\u001b[0mget_min_set\u001b[0m\u001b[0;34m(\u001b[0m\u001b[0mdata\u001b[0m\u001b[0;34m,\u001b[0m \u001b[0mn\u001b[0m\u001b[0;34m)\u001b[0m\u001b[0;34m,\u001b[0m \u001b[0mn\u001b[0m\u001b[0;34m)\u001b[0m\u001b[0;34m\u001b[0m\u001b[0;34m\u001b[0m\u001b[0m\n\u001b[0;32m---> 33\u001b[0;31m     \u001b[0mmax_sum\u001b[0m \u001b[0;34m=\u001b[0m \u001b[0mget_sum\u001b[0m\u001b[0;34m(\u001b[0m\u001b[0mget_max_set\u001b[0m\u001b[0;34m(\u001b[0m\u001b[0mdata\u001b[0m\u001b[0;34m,\u001b[0m \u001b[0mn\u001b[0m\u001b[0;34m)\u001b[0m\u001b[0;34m,\u001b[0m \u001b[0mn\u001b[0m\u001b[0;34m)\u001b[0m\u001b[0;34m\u001b[0m\u001b[0;34m\u001b[0m\u001b[0m\n\u001b[0m\u001b[1;32m     34\u001b[0m     \u001b[0;32mreturn\u001b[0m \u001b[0mmin_sum\u001b[0m\u001b[0;34m,\u001b[0m \u001b[0mmax_sum\u001b[0m\u001b[0;34m\u001b[0m\u001b[0;34m\u001b[0m\u001b[0m\n",
      "\u001b[0;32m<ipython-input-22-11a6f2ebb40b>\u001b[0m in \u001b[0;36mget_sum\u001b[0;34m(a_set, how_many_nums)\u001b[0m\n\u001b[1;32m     23\u001b[0m \u001b[0;34m\u001b[0m\u001b[0m\n\u001b[1;32m     24\u001b[0m \u001b[0;32mdef\u001b[0m \u001b[0mget_sum\u001b[0m\u001b[0;34m(\u001b[0m\u001b[0ma_set\u001b[0m\u001b[0;34m,\u001b[0m \u001b[0mhow_many_nums\u001b[0m\u001b[0;34m)\u001b[0m\u001b[0;34m:\u001b[0m\u001b[0;34m\u001b[0m\u001b[0;34m\u001b[0m\u001b[0m\n\u001b[0;32m---> 25\u001b[0;31m     \u001b[0;32mif\u001b[0m \u001b[0mlen\u001b[0m\u001b[0;34m(\u001b[0m\u001b[0ma_set\u001b[0m\u001b[0;34m)\u001b[0m \u001b[0;34m<\u001b[0m \u001b[0mhow_many_nums\u001b[0m\u001b[0;34m:\u001b[0m\u001b[0;34m\u001b[0m\u001b[0;34m\u001b[0m\u001b[0m\n\u001b[0m\u001b[1;32m     26\u001b[0m         \u001b[0mset_sum\u001b[0m \u001b[0;34m=\u001b[0m \u001b[0msum\u001b[0m\u001b[0;34m(\u001b[0m\u001b[0ma_set\u001b[0m\u001b[0;34m)\u001b[0m \u001b[0;34m+\u001b[0m \u001b[0;34m(\u001b[0m\u001b[0msum\u001b[0m\u001b[0;34m(\u001b[0m\u001b[0ma_set\u001b[0m\u001b[0;34m)\u001b[0m \u001b[0;34m*\u001b[0m\u001b[0;34m(\u001b[0m\u001b[0mhow_many_nums\u001b[0m\u001b[0;34m-\u001b[0m\u001b[0mlen\u001b[0m\u001b[0;34m(\u001b[0m\u001b[0ma_set\u001b[0m\u001b[0;34m)\u001b[0m\u001b[0;34m)\u001b[0m\u001b[0;34m)\u001b[0m\u001b[0;34m\u001b[0m\u001b[0;34m\u001b[0m\u001b[0m\n\u001b[1;32m     27\u001b[0m     \u001b[0;32melse\u001b[0m\u001b[0;34m:\u001b[0m\u001b[0;34m\u001b[0m\u001b[0;34m\u001b[0m\u001b[0m\n",
      "\u001b[0;31mTypeError\u001b[0m: object of type 'NoneType' has no len()"
     ]
    }
   ],
   "source": [
    "min_sum, max_sum = minMaxSum(data, 5)"
   ]
  },
  {
   "cell_type": "code",
   "execution_count": 17,
   "id": "local-release",
   "metadata": {},
   "outputs": [
    {
     "ename": "NameError",
     "evalue": "name 'min_sum' is not defined",
     "output_type": "error",
     "traceback": [
      "\u001b[0;31m---------------------------------------------------------------------------\u001b[0m",
      "\u001b[0;31mNameError\u001b[0m                                 Traceback (most recent call last)",
      "\u001b[0;32m<ipython-input-17-08e4a7599257>\u001b[0m in \u001b[0;36m<module>\u001b[0;34m\u001b[0m\n\u001b[0;32m----> 1\u001b[0;31m \u001b[0mprint\u001b[0m \u001b[0;34m(\u001b[0m\u001b[0mmin_sum\u001b[0m\u001b[0;34m,\u001b[0m \u001b[0mmax_sum\u001b[0m\u001b[0;34m)\u001b[0m\u001b[0;34m\u001b[0m\u001b[0;34m\u001b[0m\u001b[0m\n\u001b[0m",
      "\u001b[0;31mNameError\u001b[0m: name 'min_sum' is not defined"
     ]
    }
   ],
   "source": [
    "print (min_sum, max_sum)"
   ]
  },
  {
   "cell_type": "code",
   "execution_count": null,
   "id": "animated-identifier",
   "metadata": {},
   "outputs": [],
   "source": []
  }
 ],
 "metadata": {
  "kernelspec": {
   "display_name": "Python [conda env:tensorflow] *",
   "language": "python",
   "name": "conda-env-tensorflow-py"
  },
  "language_info": {
   "codemirror_mode": {
    "name": "ipython",
    "version": 3
   },
   "file_extension": ".py",
   "mimetype": "text/x-python",
   "name": "python",
   "nbconvert_exporter": "python",
   "pygments_lexer": "ipython3",
   "version": "3.8.5"
  }
 },
 "nbformat": 4,
 "nbformat_minor": 5
}
