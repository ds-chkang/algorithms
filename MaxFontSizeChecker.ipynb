{
 "cells": [
  {
   "cell_type": "code",
   "execution_count": 321,
   "id": "balanced-recording",
   "metadata": {},
   "outputs": [],
   "source": [
    "def is_font_valid(W,H,SENTENCE,FONT_SIZE):\n",
    "    print (len(SENTENCE))\n",
    "    words = [word + '|' for word in SENTENCE.split()]\n",
    "    words[-1] = words[-1][:-1]\n",
    "    width_sum = 0\n",
    "    height_sum = 0\n",
    "    false_cnt = 0\n",
    "    word_idx = 0\n",
    "    height_remainder = int(H/FONT_SIZE)\n",
    "    \n",
    "    if H == FONT_SIZE:\n",
    "        H = 1\n",
    "    \n",
    "    for h in range(height_remainder):\n",
    "        while word_idx < len(words):\n",
    "            width_sum = width_sum + (FONT_SIZE * len(words[word_idx]))\n",
    "            word_idx += 1\n",
    "            if width_sum > W:\n",
    "                width_sum = 0\n",
    "                false_cnt += 1\n",
    "                break\n",
    "    \n",
    "    if false_cnt == H or (false_cnt < H and (FONT_SIZE * height_remainder) < H):\n",
    "        return False\n",
    "    \n",
    "    return True"
   ]
  },
  {
   "cell_type": "code",
   "execution_count": 322,
   "id": "intelligent-reverse",
   "metadata": {},
   "outputs": [
    {
     "name": "stdout",
     "output_type": "stream",
     "text": [
      "19\n",
      "False\n"
     ]
    }
   ],
   "source": [
    "print(is_font_valid(10, 2, 'This is a sentence.', 2))"
   ]
  },
  {
   "cell_type": "code",
   "execution_count": 323,
   "id": "korean-manchester",
   "metadata": {},
   "outputs": [
    {
     "name": "stdout",
     "output_type": "stream",
     "text": [
      "27\n",
      "False\n"
     ]
    }
   ],
   "source": [
    "print(is_font_valid(20, 2, 'I am a boy. You are a girl.', 2))"
   ]
  },
  {
   "cell_type": "code",
   "execution_count": 324,
   "id": "several-directive",
   "metadata": {},
   "outputs": [
    {
     "name": "stdout",
     "output_type": "stream",
     "text": [
      "30\n",
      "True\n"
     ]
    }
   ],
   "source": [
    "print(is_font_valid(20, 2, 'I am a boy and You are a girl.', 1))"
   ]
  },
  {
   "cell_type": "code",
   "execution_count": 325,
   "id": "dietary-exhibition",
   "metadata": {},
   "outputs": [
    {
     "name": "stdout",
     "output_type": "stream",
     "text": [
      "30\n",
      "False\n"
     ]
    }
   ],
   "source": [
    "print(is_font_valid(10, 1, 'I am a boy and You are a girl.', 1))"
   ]
  },
  {
   "cell_type": "code",
   "execution_count": 326,
   "id": "double-square",
   "metadata": {
    "scrolled": true
   },
   "outputs": [
    {
     "name": "stdout",
     "output_type": "stream",
     "text": [
      "30\n",
      "True\n"
     ]
    }
   ],
   "source": [
    "print(is_font_valid(30, 1, 'I am a boy and You are a girl.', 1))"
   ]
  },
  {
   "cell_type": "code",
   "execution_count": 327,
   "id": "fabulous-fishing",
   "metadata": {},
   "outputs": [
    {
     "name": "stdout",
     "output_type": "stream",
     "text": [
      "27\n",
      "True\n"
     ]
    }
   ],
   "source": [
    "print(is_font_valid(20, 6, 'I am a boy. You are a girl.', 2))"
   ]
  },
  {
   "cell_type": "code",
   "execution_count": 328,
   "id": "french-jungle",
   "metadata": {},
   "outputs": [
    {
     "name": "stdout",
     "output_type": "stream",
     "text": [
      "27\n",
      "False\n"
     ]
    }
   ],
   "source": [
    "print(is_font_valid(20, 5, 'I am a boy. You are a girl.', 2))"
   ]
  },
  {
   "cell_type": "code",
   "execution_count": 329,
   "id": "three-murder",
   "metadata": {},
   "outputs": [
    {
     "name": "stdout",
     "output_type": "stream",
     "text": [
      "27\n",
      "False\n"
     ]
    }
   ],
   "source": [
    "print(is_font_valid(20, 5, 'I am a boy. You are a girl.', 3))"
   ]
  },
  {
   "cell_type": "code",
   "execution_count": 330,
   "id": "seasonal-sugar",
   "metadata": {},
   "outputs": [
    {
     "name": "stdout",
     "output_type": "stream",
     "text": [
      "27\n",
      "False\n"
     ]
    }
   ],
   "source": [
    "print(is_font_valid(20, 7, 'I am a boy. You are a girl.', 3))"
   ]
  },
  {
   "cell_type": "code",
   "execution_count": 331,
   "id": "impossible-hawaii",
   "metadata": {},
   "outputs": [
    {
     "name": "stdout",
     "output_type": "stream",
     "text": [
      "27\n",
      "False\n"
     ]
    }
   ],
   "source": [
    "print(is_font_valid(20, 8, 'I am a boy. You are a girl.', 3))"
   ]
  },
  {
   "cell_type": "code",
   "execution_count": 332,
   "id": "physical-champagne",
   "metadata": {},
   "outputs": [
    {
     "name": "stdout",
     "output_type": "stream",
     "text": [
      "27\n",
      "True\n"
     ]
    }
   ],
   "source": [
    "print(is_font_valid(20, 9, 'I am a boy. You are a girl.', 3))"
   ]
  },
  {
   "cell_type": "code",
   "execution_count": null,
   "id": "otherwise-begin",
   "metadata": {},
   "outputs": [],
   "source": []
  }
 ],
 "metadata": {
  "kernelspec": {
   "display_name": "Python [conda env:tensorflow] *",
   "language": "python",
   "name": "conda-env-tensorflow-py"
  },
  "language_info": {
   "codemirror_mode": {
    "name": "ipython",
    "version": 3
   },
   "file_extension": ".py",
   "mimetype": "text/x-python",
   "name": "python",
   "nbconvert_exporter": "python",
   "pygments_lexer": "ipython3",
   "version": "3.8.5"
  }
 },
 "nbformat": 4,
 "nbformat_minor": 5
}
