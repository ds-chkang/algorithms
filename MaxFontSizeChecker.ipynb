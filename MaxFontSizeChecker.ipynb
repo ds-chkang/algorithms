{
 "cells": [
  {
   "cell_type": "code",
   "execution_count": 411,
   "id": "animated-primary",
   "metadata": {},
   "outputs": [],
   "source": [
    "# 주어진 문장을 보드에 쓰기에 가장 큰 폰트를 찾기 위한 프로그램 입니다.\n",
    "# 보드 너비에 다음 단어가 들어가지 못할 때는 보드의 높이가 허용하는 만큼\n",
    "# 앞줄에 기록하지 못한 단어를 다음 줄로 가서 적게 됩니다."
   ]
  },
  {
   "cell_type": "code",
   "execution_count": 397,
   "id": "coordinated-hunger",
   "metadata": {},
   "outputs": [],
   "source": [
    "def is_font_valid(W,H,SENTENCE,FONT_SIZE):\n",
    "    print (len(SENTENCE))\n",
    "    words = [word + '|' for word in SENTENCE.split()]\n",
    "    words[-1] = words[-1][:-1]\n",
    "    width_sum = 0\n",
    "    height_sum = 0\n",
    "    false_cnt = 0\n",
    "    word_idx = 0\n",
    "    height_remainder = 0\n",
    "    \n",
    "    # Convert height of the board to be the count of stairs in the ladder for climbing down.\n",
    "    if H == FONT_SIZE:\n",
    "        height_remainder = 1\n",
    "    else:\n",
    "        height_remainder = int(H/FONT_SIZE)\n",
    "    \n",
    "    # Climb down the ladder.\n",
    "    for h in range(height_remainder):\n",
    "        # Loop through the words.\n",
    "        \n",
    "        while word_idx < len(words):    \n",
    "            # Calculate width limit of the board.\n",
    "            width_sum = width_sum + (FONT_SIZE * len(words[word_idx]))\n",
    "            \n",
    "            # Increment the word index.\n",
    "            word_idx += 1\n",
    "            \n",
    "            # See if the width limit has reached then increment the false count by 1 and break the loop.\n",
    "            if width_sum > W:\n",
    "                width_sum = 0\n",
    "                false_cnt += 1\n",
    "                word_idx -= 1\n",
    "                break\n",
    "                \n",
    "    # See how many times false count has occurred.\n",
    "    if false_cnt == height_remainder:\n",
    "        return False\n",
    "    \n",
    "    return True"
   ]
  },
  {
   "cell_type": "code",
   "execution_count": 398,
   "id": "revised-colors",
   "metadata": {},
   "outputs": [
    {
     "name": "stdout",
     "output_type": "stream",
     "text": [
      "19\n",
      "False\n"
     ]
    }
   ],
   "source": [
    "print(is_font_valid(10, 2, 'This is a sentence.', 2))"
   ]
  },
  {
   "cell_type": "code",
   "execution_count": 399,
   "id": "figured-demonstration",
   "metadata": {},
   "outputs": [
    {
     "name": "stdout",
     "output_type": "stream",
     "text": [
      "27\n",
      "False\n"
     ]
    }
   ],
   "source": [
    "print(is_font_valid(20, 2, 'I am a boy. You are a girl.', 2))"
   ]
  },
  {
   "cell_type": "code",
   "execution_count": 400,
   "id": "ranging-beauty",
   "metadata": {},
   "outputs": [
    {
     "name": "stdout",
     "output_type": "stream",
     "text": [
      "30\n",
      "True\n"
     ]
    }
   ],
   "source": [
    "print(is_font_valid(20, 2, 'I am a boy and You are a girl.', 1))"
   ]
  },
  {
   "cell_type": "code",
   "execution_count": 401,
   "id": "expanded-frank",
   "metadata": {},
   "outputs": [
    {
     "name": "stdout",
     "output_type": "stream",
     "text": [
      "30\n",
      "False\n"
     ]
    }
   ],
   "source": [
    "print(is_font_valid(10, 1, 'I am a boy and You are a girl.', 1))"
   ]
  },
  {
   "cell_type": "code",
   "execution_count": 402,
   "id": "bored-seeker",
   "metadata": {
    "scrolled": true
   },
   "outputs": [
    {
     "name": "stdout",
     "output_type": "stream",
     "text": [
      "30\n",
      "True\n"
     ]
    }
   ],
   "source": [
    "print(is_font_valid(30, 1, 'I am a boy and You are a girl.', 1))"
   ]
  },
  {
   "cell_type": "code",
   "execution_count": 403,
   "id": "light-consultation",
   "metadata": {},
   "outputs": [
    {
     "name": "stdout",
     "output_type": "stream",
     "text": [
      "27\n",
      "False\n"
     ]
    }
   ],
   "source": [
    "print(is_font_valid(20, 6, 'I am a boy. You are a girl.', 2))"
   ]
  },
  {
   "cell_type": "code",
   "execution_count": 404,
   "id": "forty-cursor",
   "metadata": {},
   "outputs": [
    {
     "name": "stdout",
     "output_type": "stream",
     "text": [
      "27\n",
      "False\n"
     ]
    }
   ],
   "source": [
    "print(is_font_valid(20, 5, 'I am a boy. You are a girl.', 2))"
   ]
  },
  {
   "cell_type": "code",
   "execution_count": 405,
   "id": "controlling-matrix",
   "metadata": {},
   "outputs": [
    {
     "name": "stdout",
     "output_type": "stream",
     "text": [
      "27\n",
      "False\n"
     ]
    }
   ],
   "source": [
    "print(is_font_valid(20, 5, 'I am a boy. You are a girl.', 3))"
   ]
  },
  {
   "cell_type": "code",
   "execution_count": 406,
   "id": "democratic-worse",
   "metadata": {},
   "outputs": [
    {
     "name": "stdout",
     "output_type": "stream",
     "text": [
      "27\n",
      "False\n"
     ]
    }
   ],
   "source": [
    "print(is_font_valid(20, 7, 'I am a boy. You are a girl.', 3))"
   ]
  },
  {
   "cell_type": "code",
   "execution_count": 407,
   "id": "honest-management",
   "metadata": {},
   "outputs": [
    {
     "name": "stdout",
     "output_type": "stream",
     "text": [
      "27\n",
      "False\n"
     ]
    }
   ],
   "source": [
    "print(is_font_valid(20, 8, 'I am a boy. You are a girl.', 3))"
   ]
  },
  {
   "cell_type": "code",
   "execution_count": 410,
   "id": "functional-colon",
   "metadata": {},
   "outputs": [
    {
     "name": "stdout",
     "output_type": "stream",
     "text": [
      "27\n",
      "False\n"
     ]
    }
   ],
   "source": [
    "print(is_font_valid(10, 3, 'I am a boy. You are a girl.', 1))"
   ]
  },
  {
   "cell_type": "code",
   "execution_count": null,
   "id": "ongoing-retro",
   "metadata": {},
   "outputs": [],
   "source": []
  }
 ],
 "metadata": {
  "kernelspec": {
   "display_name": "Python [conda env:tensorflow] *",
   "language": "python",
   "name": "conda-env-tensorflow-py"
  },
  "language_info": {
   "codemirror_mode": {
    "name": "ipython",
    "version": 3
   },
   "file_extension": ".py",
   "mimetype": "text/x-python",
   "name": "python",
   "nbconvert_exporter": "python",
   "pygments_lexer": "ipython3",
   "version": "3.8.5"
  }
 },
 "nbformat": 4,
 "nbformat_minor": 5
}
