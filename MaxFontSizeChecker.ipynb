{
 "cells": [
  {
   "cell_type": "code",
   "execution_count": 217,
   "id": "cleared-politics",
   "metadata": {},
   "outputs": [],
   "source": [
    "def is_font_valid(W,H,SENTENCE,FONTSIZE):\n",
    "    words = [word + '|' for word in SENTENCE.split()]\n",
    "    words[-1] = words[-1][:-1]\n",
    "    width_sum = 0\n",
    "    false_cnt = 0\n",
    "    word_idx = 0\n",
    "    \n",
    "    for h in range(H):\n",
    "        while word_idx < len(words):\n",
    "            width_sum = width_sum + (FONTSIZE * len(words[word_idx]))\n",
    "            word_idx += 1\n",
    "            if width_sum > W:\n",
    "                width_sum = 0\n",
    "                false_cnt += 1\n",
    "                break\n",
    "                \n",
    "    if false_cnt == H:\n",
    "        return False\n",
    "    \n",
    "    return True"
   ]
  },
  {
   "cell_type": "code",
   "execution_count": 218,
   "id": "considered-senegal",
   "metadata": {},
   "outputs": [
    {
     "name": "stdout",
     "output_type": "stream",
     "text": [
      "True\n"
     ]
    }
   ],
   "source": [
    "print(is_font_valid(10, 2, 'This is a sentence.', 1))"
   ]
  },
  {
   "cell_type": "code",
   "execution_count": 219,
   "id": "brutal-jesus",
   "metadata": {},
   "outputs": [
    {
     "name": "stdout",
     "output_type": "stream",
     "text": [
      "True\n"
     ]
    }
   ],
   "source": [
    "print(is_font_valid(20, 2, 'I am a boy. You are a girl.', 1))"
   ]
  },
  {
   "cell_type": "code",
   "execution_count": 220,
   "id": "serious-mechanism",
   "metadata": {},
   "outputs": [
    {
     "name": "stdout",
     "output_type": "stream",
     "text": [
      "True\n"
     ]
    }
   ],
   "source": [
    "print(is_font_valid(20, 2, 'I am a boy and You are a girl.', 1))"
   ]
  },
  {
   "cell_type": "code",
   "execution_count": 221,
   "id": "canadian-gardening",
   "metadata": {},
   "outputs": [
    {
     "name": "stdout",
     "output_type": "stream",
     "text": [
      "False\n"
     ]
    }
   ],
   "source": [
    "print(is_font_valid(10, 1, 'I am a boy and You are a girl.', 1))"
   ]
  },
  {
   "cell_type": "code",
   "execution_count": 225,
   "id": "still-desire",
   "metadata": {},
   "outputs": [
    {
     "name": "stdout",
     "output_type": "stream",
     "text": [
      "True\n"
     ]
    }
   ],
   "source": [
    "print(is_font_valid(30, 1, 'I am a boy and You are a girl.', 1))"
   ]
  },
  {
   "cell_type": "code",
   "execution_count": null,
   "id": "expected-topic",
   "metadata": {},
   "outputs": [],
   "source": []
  }
 ],
 "metadata": {
  "kernelspec": {
   "display_name": "Python [conda env:tensorflow] *",
   "language": "python",
   "name": "conda-env-tensorflow-py"
  },
  "language_info": {
   "codemirror_mode": {
    "name": "ipython",
    "version": 3
   },
   "file_extension": ".py",
   "mimetype": "text/x-python",
   "name": "python",
   "nbconvert_exporter": "python",
   "pygments_lexer": "ipython3",
   "version": "3.8.5"
  }
 },
 "nbformat": 4,
 "nbformat_minor": 5
}
