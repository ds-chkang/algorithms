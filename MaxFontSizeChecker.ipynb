{
 "cells": [
  {
   "cell_type": "code",
   "execution_count": 133,
   "metadata": {},
   "outputs": [],
   "source": [
    "# 주어진 문장을 보드에 쓰기에 가장 큰 폰트를 찾기 위한 프로그램 입니다.\n",
    "# 보드 너비에 다음 단어가 들어가지 못할 때는 보드의 높이가 허용하는 만큼\n",
    "# 앞줄에 기록하지 못한 단어를 다음 줄로 가서 적게 됩니다.\n",
    "# 파이썬 버전 3으로 작성해 봤습니다."
   ]
  },
  {
   "cell_type": "code",
   "execution_count": 41,
   "metadata": {},
   "outputs": [],
   "source": [
    "def get_words_from_sentence(SENTENCE: str) -> list:\n",
    "    print (len(SENTENCE))\n",
    "    words = [word + '|' for word in SENTENCE.split()]\n",
    "    words[-1] = words[-1][:-1]\n",
    "    return words"
   ]
  },
  {
   "cell_type": "code",
   "execution_count": 42,
   "metadata": {},
   "outputs": [],
   "source": [
    "def get_board_height(BOARD_HEIGHT: int, FONT_SIZE: int) -> int:\n",
    "    return int(BOARD_HEIGHT/FONT_SIZE)"
   ]
  },
  {
   "cell_type": "code",
   "execution_count": 43,
   "metadata": {},
   "outputs": [],
   "source": [
    "def get_current_length(WIDTH_SUM: int, FONT_SIZE: int, WORDS: list, WORD_IDX: int) -> int:\n",
    "    return WIDTH_SUM + (FONT_SIZE * len(WORDS[WORD_IDX]))"
   ]
  },
  {
   "cell_type": "code",
   "execution_count": 44,
   "metadata": {},
   "outputs": [],
   "source": [
    "def is_font_valid(FALSE_CNT: int, BOARD_HEIGHT: int) -> bool:   \n",
    "    return (FALSE_CNT != BOARD_HEIGHT)"
   ]
  },
  {
   "cell_type": "code",
   "execution_count": 76,
   "metadata": {},
   "outputs": [],
   "source": [
    "def check_font_size(W,H,SENTENCE,FONT_SIZE) -> bool:\n",
    "    WIDTH_SUM = 0\n",
    "    FALSE_CNT = 0\n",
    "    WORD_IDX = 0\n",
    "    WORDS = get_words_from_sentence(SENTENCE)\n",
    "    HEIGHT = get_board_height(H, FONT_SIZE)\n",
    "    RESULT = False\n",
    "    if HEIGHT == 1:\n",
    "        if get_current_length(0, FONT_SIZE, [SENTENCE], 0) > W:\n",
    "            RESULT = False\n",
    "        else:\n",
    "            RESULT = True\n",
    "    else:\n",
    "        for h in range(HEIGHT):\n",
    "            while WORD_IDX < len(WORDS):    \n",
    "                WIDTH_SUM = get_current_length(WIDTH_SUM, FONT_SIZE, WORDS, WORD_IDX)\n",
    "                if WIDTH_SUM > W:\n",
    "                    WIDTH_SUM = get_current_length(0, FONT_SIZE, WORDS, WORD_IDX)\n",
    "                    FALSE_CNT += 1\n",
    "                    break\n",
    "                WORD_IDX += 1\n",
    "        RESULT = is_font_valid(FALSE_CNT, HEIGHT)\n",
    "    return RESULT"
   ]
  },
  {
   "cell_type": "code",
   "execution_count": 77,
   "metadata": {},
   "outputs": [
    {
     "name": "stdout",
     "output_type": "stream",
     "text": [
      "19\n",
      "False\n"
     ]
    }
   ],
   "source": [
    "print(check_font_size(10, 4, 'This is a sentence.', 2))"
   ]
  },
  {
   "cell_type": "code",
   "execution_count": 78,
   "metadata": {},
   "outputs": [
    {
     "name": "stdout",
     "output_type": "stream",
     "text": [
      "27\n",
      "False\n"
     ]
    }
   ],
   "source": [
    "print(check_font_size(20, 2, 'I am a boy. You are a girl.', 2))"
   ]
  },
  {
   "cell_type": "code",
   "execution_count": 79,
   "metadata": {},
   "outputs": [
    {
     "name": "stdout",
     "output_type": "stream",
     "text": [
      "30\n",
      "True\n"
     ]
    }
   ],
   "source": [
    "print(check_font_size(20, 2, 'I am a boy and You are a girl.', 1))"
   ]
  },
  {
   "cell_type": "code",
   "execution_count": 80,
   "metadata": {},
   "outputs": [
    {
     "name": "stdout",
     "output_type": "stream",
     "text": [
      "30\n",
      "False\n"
     ]
    }
   ],
   "source": [
    "print(check_font_size(10, 1, 'I am a boy and You are a girl.', 1))"
   ]
  },
  {
   "cell_type": "code",
   "execution_count": 81,
   "metadata": {
    "scrolled": true
   },
   "outputs": [
    {
     "name": "stdout",
     "output_type": "stream",
     "text": [
      "30\n",
      "True\n"
     ]
    }
   ],
   "source": [
    "print(check_font_size(30, 1, 'I am a boy and You are a girl.', 1))"
   ]
  },
  {
   "cell_type": "code",
   "execution_count": 82,
   "metadata": {},
   "outputs": [
    {
     "name": "stdout",
     "output_type": "stream",
     "text": [
      "27\n",
      "False\n"
     ]
    }
   ],
   "source": [
    "print(check_font_size(20, 6, 'I am a boy. You are a girl.', 2))"
   ]
  },
  {
   "cell_type": "code",
   "execution_count": 83,
   "metadata": {},
   "outputs": [
    {
     "name": "stdout",
     "output_type": "stream",
     "text": [
      "27\n",
      "False\n"
     ]
    }
   ],
   "source": [
    "print(check_font_size(20, 5, 'I am a boy. You are a girl.', 2))"
   ]
  },
  {
   "cell_type": "code",
   "execution_count": 84,
   "metadata": {},
   "outputs": [
    {
     "name": "stdout",
     "output_type": "stream",
     "text": [
      "27\n",
      "False\n"
     ]
    }
   ],
   "source": [
    "print(check_font_size(20, 5, 'I am a boy. You are a girl.', 3))"
   ]
  },
  {
   "cell_type": "code",
   "execution_count": 85,
   "metadata": {},
   "outputs": [
    {
     "name": "stdout",
     "output_type": "stream",
     "text": [
      "27\n",
      "False\n"
     ]
    }
   ],
   "source": [
    "print(check_font_size(20, 7, 'I am a boy. You are a girl.', 3))"
   ]
  },
  {
   "cell_type": "code",
   "execution_count": 86,
   "metadata": {},
   "outputs": [
    {
     "name": "stdout",
     "output_type": "stream",
     "text": [
      "27\n",
      "False\n"
     ]
    }
   ],
   "source": [
    "print(check_font_size(20, 8, 'I am a boy. You are a girl.', 3))"
   ]
  },
  {
   "cell_type": "code",
   "execution_count": 87,
   "metadata": {},
   "outputs": [
    {
     "name": "stdout",
     "output_type": "stream",
     "text": [
      "27\n",
      "False\n"
     ]
    }
   ],
   "source": [
    "print(check_font_size(10, 3, 'I am a boy. You are a girl.', 1))"
   ]
  },
  {
   "cell_type": "code",
   "execution_count": null,
   "metadata": {},
   "outputs": [],
   "source": []
  },
  {
   "cell_type": "code",
   "execution_count": null,
   "metadata": {},
   "outputs": [],
   "source": []
  }
 ],
 "metadata": {
  "kernelspec": {
   "display_name": "Python 3",
   "language": "python",
   "name": "python3"
  },
  "language_info": {
   "codemirror_mode": {
    "name": "ipython",
    "version": 3
   },
   "file_extension": ".py",
   "mimetype": "text/x-python",
   "name": "python",
   "nbconvert_exporter": "python",
   "pygments_lexer": "ipython3",
   "version": "3.7.3"
  }
 },
 "nbformat": 4,
 "nbformat_minor": 5
}
