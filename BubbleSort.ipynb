{
 "cells": [
  {
   "cell_type": "code",
   "execution_count": 65,
   "id": "planned-holder",
   "metadata": {},
   "outputs": [],
   "source": [
    "# Bubble Sort 재현\n",
    "\n",
    "class Node:\n",
    "    def __init__(self, data):\n",
    "        self.data = data"
   ]
  },
  {
   "cell_type": "code",
   "execution_count": 92,
   "id": "given-pencil",
   "metadata": {},
   "outputs": [],
   "source": [
    "class BubbleSorter:\n",
    "    def sort(self, nodes):\n",
    "        for i in range(len(nodes)-1):\n",
    "            for j in range(len(nodes)-(1+i)):\n",
    "                if nodes[j].data > nodes[j+1].data:\n",
    "                    tmp = nodes[j]\n",
    "                    nodes[j] = nodes[j+1]\n",
    "                    nodes[j+1] = tmp\n",
    "\n",
    "    def show(self, nodes):\n",
    "        for node in nodes:\n",
    "            print (node.data, end=' ')"
   ]
  },
  {
   "cell_type": "code",
   "execution_count": 93,
   "id": "intended-worthy",
   "metadata": {},
   "outputs": [],
   "source": [
    "node1 = Node(10)\n",
    "node2 = Node(2)\n",
    "node3 = Node(1)\n",
    "node4 = Node(3)\n",
    "node5 = Node(4)\n",
    "node6 = Node(8)\n",
    "node7 = Node(5)\n",
    "node8 = Node(6)\n",
    "node9 = Node(9)\n",
    "node10 = Node(7)\n",
    "\n",
    "nodes = [node1, node2, node3, node4, node5, node6, node7, node8, node9, node10]\n",
    "bubble_sorter = BubbleSorter()"
   ]
  },
  {
   "cell_type": "code",
   "execution_count": 95,
   "id": "received-airline",
   "metadata": {},
   "outputs": [],
   "source": [
    "bubble_sorter.sort(nodes)"
   ]
  },
  {
   "cell_type": "code",
   "execution_count": 96,
   "id": "decent-reliance",
   "metadata": {},
   "outputs": [
    {
     "name": "stdout",
     "output_type": "stream",
     "text": [
      "1 2 3 4 5 6 7 8 9 10 "
     ]
    }
   ],
   "source": [
    "bubble_sorter.show(nodes)"
   ]
  },
  {
   "cell_type": "code",
   "execution_count": null,
   "id": "serial-discount",
   "metadata": {},
   "outputs": [],
   "source": []
  },
  {
   "cell_type": "code",
   "execution_count": null,
   "id": "frank-midwest",
   "metadata": {},
   "outputs": [],
   "source": []
  }
 ],
 "metadata": {
  "kernelspec": {
   "display_name": "Python 3",
   "language": "python",
   "name": "python3"
  },
  "language_info": {
   "codemirror_mode": {
    "name": "ipython",
    "version": 3
   },
   "file_extension": ".py",
   "mimetype": "text/x-python",
   "name": "python",
   "nbconvert_exporter": "python",
   "pygments_lexer": "ipython3",
   "version": "3.8.5"
  }
 },
 "nbformat": 4,
 "nbformat_minor": 5
}
