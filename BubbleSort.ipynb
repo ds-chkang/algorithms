{
 "cells": [
  {
   "cell_type": "code",
   "execution_count": 9,
   "id": "starting-miller",
   "metadata": {},
   "outputs": [],
   "source": [
    "# BUBBLESORT 재현"
   ]
  },
  {
   "cell_type": "code",
   "execution_count": 10,
   "id": "suspended-middle",
   "metadata": {},
   "outputs": [],
   "source": [
    "class Node:\n",
    "    def __init__(self, data):\n",
    "        self.data = data"
   ]
  },
  {
   "cell_type": "code",
   "execution_count": 23,
   "id": "contained-consistency",
   "metadata": {},
   "outputs": [],
   "source": [
    "class BubbleSorter:\n",
    "    def sort(self, nodes):\n",
    "        for i in range(len(nodes)-1):\n",
    "            for j in range(len(nodes)-(1+i)):\n",
    "                if nodes[j].data > nodes[j+1].data:\n",
    "                    self.swap(j, j+1, nodes)\n",
    "        \n",
    "    def swap(self, j, i, nodes):\n",
    "        tmp = nodes[j]\n",
    "        nodes[j] = nodes[i]\n",
    "        nodes[i] = tmp\n",
    "                    \n",
    "    def show(self, nodes):\n",
    "        for node in nodes:\n",
    "            print (node.data, end=' ')"
   ]
  },
  {
   "cell_type": "code",
   "execution_count": 24,
   "id": "smooth-facility",
   "metadata": {},
   "outputs": [],
   "source": [
    "# 노드 생성\n",
    "node1 = Node(10)\n",
    "node2 = Node(2)\n",
    "node3 = Node(1)\n",
    "node4 = Node(3)\n",
    "node5 = Node(4)\n",
    "node6 = Node(8)\n",
    "node7 = Node(5)\n",
    "node8 = Node(6)\n",
    "node9 = Node(9)\n",
    "node10 = Node(7)"
   ]
  },
  {
   "cell_type": "code",
   "execution_count": 25,
   "id": "billion-weapon",
   "metadata": {},
   "outputs": [],
   "source": [
    "# BUBBLE SORTER 생성.\n",
    "nodes = [node1, node2, node3, node4, node5, node6, node7, node8, node9, node10]\n",
    "bubble_sorter = BubbleSorter()"
   ]
  },
  {
   "cell_type": "code",
   "execution_count": 26,
   "id": "compound-spending",
   "metadata": {},
   "outputs": [],
   "source": [
    "# 버블 소팅하기.\n",
    "bubble_sorter.sort(nodes)"
   ]
  },
  {
   "cell_type": "code",
   "execution_count": 27,
   "id": "hybrid-twelve",
   "metadata": {},
   "outputs": [
    {
     "name": "stdout",
     "output_type": "stream",
     "text": [
      "1 2 3 4 5 6 7 8 9 10 "
     ]
    }
   ],
   "source": [
    "# 결과 확인.\n",
    "bubble_sorter.show(nodes)"
   ]
  },
  {
   "cell_type": "code",
   "execution_count": null,
   "id": "excellent-mixer",
   "metadata": {},
   "outputs": [],
   "source": []
  }
 ],
 "metadata": {
  "kernelspec": {
   "display_name": "Python [conda env:tensorflow] *",
   "language": "python",
   "name": "conda-env-tensorflow-py"
  },
  "language_info": {
   "codemirror_mode": {
    "name": "ipython",
    "version": 3
   },
   "file_extension": ".py",
   "mimetype": "text/x-python",
   "name": "python",
   "nbconvert_exporter": "python",
   "pygments_lexer": "ipython3",
   "version": "3.8.5"
  }
 },
 "nbformat": 4,
 "nbformat_minor": 5
}
