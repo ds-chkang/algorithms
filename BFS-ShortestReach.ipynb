{
 "cells": [
  {
   "cell_type": "code",
   "execution_count": null,
   "id": "soviet-essay",
   "metadata": {},
   "outputs": [],
   "source": [
    "'''\n",
    "    HackerRank에 있는 문제인 Breadth First Search: Shortest Reach에 대한 솔루션 입니다. 문제 난이도는 Medium 입니다.\n",
    "    문제의 내용은 그래프를 탐색하고 출발점이 정해지면 출발점에서 BFS를 이용해서 모든 연결된 노드에 대한\n",
    "    비용을 구하는 것 입니다. 노드와 노드 사이의 비용은 모두 일정하게 6으로 정해져 있습니다. \n",
    "    \n",
    "    - 출력의 조건은,\n",
    "    출발점과 연결되어 있지 않은 노드는 -1로 출력\n",
    "    \n",
    "'''"
   ]
  },
  {
   "cell_type": "code",
   "execution_count": 5,
   "id": "fifth-friend",
   "metadata": {},
   "outputs": [],
   "source": [
    "import math\n",
    "import os\n",
    "import random\n",
    "import re\n",
    "import sys\n",
    "from collections import defaultdict"
   ]
  },
  {
   "cell_type": "code",
   "execution_count": 6,
   "id": "fifth-static",
   "metadata": {},
   "outputs": [],
   "source": [
    "class Graph:\n",
    "    def __init__(self, n, edges):\n",
    "        self.V = n\n",
    "        self.graph = defaultdict()\n",
    "        \n",
    "        for i in range(1, n+1):\n",
    "            self.add_node(i)\n",
    "        \n",
    "        for edge in edges:\n",
    "            self.add_edge(edge)\n",
    "            \n",
    "    def add_node(self, node):\n",
    "        self.graph[node-1] = []            \n",
    "            \n",
    "    def add_edge(self, edge):\n",
    "        self.graph[edge[0]-1].append(edge[1]-1)\n",
    "        self.graph[edge[1]-1].append(edge[0]-1)\n",
    "\n",
    "    def get_paths_to_node(self, s):        \n",
    "        queue = []\n",
    "        paths = []\n",
    "        queue.append([s])\n",
    "        visited = [-1]*self.V\n",
    "        visited[s] = True\n",
    "        \n",
    "        while queue:            \n",
    "            path = queue.pop(0)\n",
    "            node = path[-1]\n",
    "            for adjacent in self.graph.get(node, []):\n",
    "                if visited[adjacent] == -1:\n",
    "                    new_path = path + [adjacent]\n",
    "                    queue.append(new_path)\n",
    "                    paths.append(new_path)\n",
    "                    visited[adjacent] = True\n",
    "        \n",
    "        return paths, visited\n",
    "    \n",
    "    def get_costs(self, paths, visited):\n",
    "        costs = visited\n",
    "        for path in paths:\n",
    "            for i in range(1, len(path)):\n",
    "                costs[path[i]] = (i*6)\n",
    "        return costs  \n",
    "      \n",
    "    def format_costs(self, s, costs):\n",
    "        costs_str = ''\n",
    "        for i in range(len(costs)):\n",
    "            if i == s:\n",
    "                continue\n",
    "            else:\n",
    "                if len(costs_str) == 0:\n",
    "                    costs_str = str(costs[i])\n",
    "                else:\n",
    "                    costs_str = costs_str + ' ' + str(costs[i])\n",
    "        return costs_str"
   ]
  },
  {
   "cell_type": "code",
   "execution_count": 7,
   "id": "static-score",
   "metadata": {},
   "outputs": [],
   "source": [
    "# Complete the bfs function below.\n",
    "def bfs(n, m, edges, s):\n",
    "    graph = Graph(n, edges)\n",
    "    paths, visited = graph.get_paths_to_node(s-1) \n",
    "    costs = graph.get_costs(paths, visited)\n",
    "    costs = graph.format_costs(s-1, costs)\n",
    "    return costs"
   ]
  },
  {
   "cell_type": "code",
   "execution_count": 8,
   "id": "ranging-following",
   "metadata": {},
   "outputs": [
    {
     "data": {
      "text/plain": [
       "'6 6 -1'"
      ]
     },
     "execution_count": 8,
     "metadata": {},
     "output_type": "execute_result"
    }
   ],
   "source": [
    "n = 4 # 전체 노드 수\n",
    "m = 2 # 전체 엣지 수\n",
    "edges = [[1,2],[1,3]] # 엣지 관계(Undirected Graph임.)\n",
    "s = 1 # 출발 노드\n",
    "bfs(n, m, edges, s)"
   ]
  },
  {
   "cell_type": "code",
   "execution_count": 9,
   "id": "streaming-square",
   "metadata": {},
   "outputs": [
    {
     "data": {
      "text/plain": [
       "'-1 6'"
      ]
     },
     "execution_count": 9,
     "metadata": {},
     "output_type": "execute_result"
    }
   ],
   "source": [
    "n = 3 # 전체 노드 수\n",
    "m = 1 # 전체 엣지 수\n",
    "edges = [[2,3]] # 엣지 관계(Undirected Graph임.)\n",
    "s = 2 # 출발 노드\n",
    "bfs(n, m, edges, s)"
   ]
  },
  {
   "cell_type": "code",
   "execution_count": null,
   "id": "satisfactory-investigation",
   "metadata": {},
   "outputs": [],
   "source": []
  }
 ],
 "metadata": {
  "kernelspec": {
   "display_name": "Python [conda env:tensorflow] *",
   "language": "python",
   "name": "conda-env-tensorflow-py"
  },
  "language_info": {
   "codemirror_mode": {
    "name": "ipython",
    "version": 3
   },
   "file_extension": ".py",
   "mimetype": "text/x-python",
   "name": "python",
   "nbconvert_exporter": "python",
   "pygments_lexer": "ipython3",
   "version": "3.8.5"
  }
 },
 "nbformat": 4,
 "nbformat_minor": 5
}
