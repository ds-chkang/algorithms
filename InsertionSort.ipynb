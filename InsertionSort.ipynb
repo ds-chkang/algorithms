{
 "cells": [
  {
   "cell_type": "code",
   "execution_count": 20,
   "id": "expressed-assessment",
   "metadata": {},
   "outputs": [],
   "source": [
    "# INSERTION SORT 재현"
   ]
  },
  {
   "cell_type": "code",
   "execution_count": 163,
   "id": "entire-lancaster",
   "metadata": {},
   "outputs": [],
   "source": [
    "import random as rd"
   ]
  },
  {
   "cell_type": "code",
   "execution_count": 164,
   "id": "classical-speaker",
   "metadata": {},
   "outputs": [],
   "source": [
    "data = rd.sample(range(0, 10000), 10)"
   ]
  },
  {
   "cell_type": "code",
   "execution_count": 165,
   "id": "analyzed-stamp",
   "metadata": {},
   "outputs": [
    {
     "data": {
      "text/plain": [
       "[9224, 5294, 9192, 5811, 9637, 2916, 5175, 8551, 8232, 9804]"
      ]
     },
     "execution_count": 165,
     "metadata": {},
     "output_type": "execute_result"
    }
   ],
   "source": [
    "data"
   ]
  },
  {
   "cell_type": "code",
   "execution_count": 166,
   "id": "foster-exploration",
   "metadata": {},
   "outputs": [],
   "source": [
    "def swap_data(j, i, data):\n",
    "    tmp = data[j]\n",
    "    data[j] = data[i]\n",
    "    data[i] = tmp"
   ]
  },
  {
   "cell_type": "code",
   "execution_count": 167,
   "id": "living-graduation",
   "metadata": {},
   "outputs": [],
   "source": [
    "def shift_data(i, data):\n",
    "    for j in range(i, 0, -1):\n",
    "        if data[j-1] > data[j]:\n",
    "            swap_data(j, j-1, data)"
   ]
  },
  {
   "cell_type": "code",
   "execution_count": 168,
   "id": "prostate-underwear",
   "metadata": {},
   "outputs": [],
   "source": [
    "def insertionsort(data):\n",
    "    for i in range(1, len(data)):\n",
    "        if data[i-1] > data[i]:\n",
    "            swap_data(i-1, i, data)\n",
    "            shift_data(i-1, data)\n",
    "    return data"
   ]
  },
  {
   "cell_type": "code",
   "execution_count": 169,
   "id": "according-circus",
   "metadata": {},
   "outputs": [],
   "source": [
    "ordered_data = insertionsort(data)"
   ]
  },
  {
   "cell_type": "code",
   "execution_count": 170,
   "id": "organizational-shanghai",
   "metadata": {},
   "outputs": [
    {
     "data": {
      "text/plain": [
       "[2916, 5175, 5294, 5811, 8232, 8551, 9192, 9224, 9637, 9804]"
      ]
     },
     "execution_count": 170,
     "metadata": {},
     "output_type": "execute_result"
    }
   ],
   "source": [
    "ordered_data"
   ]
  }
 ],
 "metadata": {
  "kernelspec": {
   "display_name": "Python [conda env:tensorflow] *",
   "language": "python",
   "name": "conda-env-tensorflow-py"
  },
  "language_info": {
   "codemirror_mode": {
    "name": "ipython",
    "version": 3
   },
   "file_extension": ".py",
   "mimetype": "text/x-python",
   "name": "python",
   "nbconvert_exporter": "python",
   "pygments_lexer": "ipython3",
   "version": "3.8.5"
  }
 },
 "nbformat": 4,
 "nbformat_minor": 5
}
