{
 "cells": [
  {
   "cell_type": "code",
   "execution_count": 237,
   "id": "loving-imperial",
   "metadata": {},
   "outputs": [],
   "source": [
    "# INSERTION SORT 재현\n",
    "\n",
    "data = [10,2,1,4,5,3,9,8,7,0,6]"
   ]
  },
  {
   "cell_type": "code",
   "execution_count": 238,
   "id": "spatial-complexity",
   "metadata": {},
   "outputs": [],
   "source": [
    "def insert(data, a_number, end):\n",
    "    min_loc = find(data, a_number, end)\n",
    "    shift(data, a_number, end, min_loc)\n",
    "    data[min_loc] = a_number\n",
    "        \n",
    "def shift(data, a_number, end, min_loc):\n",
    "    for i in range(end, min_loc, -1):\n",
    "        data[i] = data[i-1]\n",
    "        \n",
    "def find(data, a_number, end):\n",
    "    min_idx = 0\n",
    "    for i in range(end):\n",
    "        if a_number < data[i]:\n",
    "            return i"
   ]
  },
  {
   "cell_type": "code",
   "execution_count": 239,
   "id": "architectural-memorabilia",
   "metadata": {},
   "outputs": [],
   "source": [
    "# RUN INSERTION SORT\n",
    "\n",
    "for num_loc in range(len(data)-1):\n",
    "    if data[num_loc] > data[num_loc+1]:\n",
    "        tmp = data[num_loc+1]\n",
    "        insert(data, tmp, num_loc+1)"
   ]
  },
  {
   "cell_type": "code",
   "execution_count": 240,
   "id": "sharing-international",
   "metadata": {},
   "outputs": [
    {
     "data": {
      "text/plain": [
       "[0, 1, 2, 3, 4, 5, 6, 7, 8, 9, 10]"
      ]
     },
     "execution_count": 240,
     "metadata": {},
     "output_type": "execute_result"
    }
   ],
   "source": [
    "data"
   ]
  },
  {
   "cell_type": "code",
   "execution_count": null,
   "id": "talented-province",
   "metadata": {},
   "outputs": [],
   "source": []
  }
 ],
 "metadata": {
  "kernelspec": {
   "display_name": "Python 3",
   "language": "python",
   "name": "python3"
  },
  "language_info": {
   "codemirror_mode": {
    "name": "ipython",
    "version": 3
   },
   "file_extension": ".py",
   "mimetype": "text/x-python",
   "name": "python",
   "nbconvert_exporter": "python",
   "pygments_lexer": "ipython3",
   "version": "3.8.5"
  }
 },
 "nbformat": 4,
 "nbformat_minor": 5
}
