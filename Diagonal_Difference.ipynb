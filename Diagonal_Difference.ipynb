{
 "cells": [
  {
   "cell_type": "code",
   "execution_count": 45,
   "id": "medium-mandate",
   "metadata": {},
   "outputs": [],
   "source": [
    "'''\n",
    "    행렬에서 정방향 TRACE와 반대 방향 TRACE 합의 차이 구하기.\n",
    "    행렬의 TRACE를 구할 때, TRACE가 계산되는 구조를 이해하면 풀기 쉬운 문제 입니다.\n",
    "'''"
   ]
  },
  {
   "cell_type": "code",
   "execution_count": 2,
   "id": "indian-amplifier",
   "metadata": {},
   "outputs": [],
   "source": [
    "import numpy as np"
   ]
  },
  {
   "cell_type": "code",
   "execution_count": 1,
   "id": "wound-warehouse",
   "metadata": {},
   "outputs": [],
   "source": [
    "data = [11,2,4,4,5,6,10,8,-12]"
   ]
  },
  {
   "cell_type": "code",
   "execution_count": 3,
   "id": "logical-punch",
   "metadata": {},
   "outputs": [],
   "source": [
    "data = np.array(data).reshape(3,3)"
   ]
  },
  {
   "cell_type": "code",
   "execution_count": 6,
   "id": "computational-dover",
   "metadata": {},
   "outputs": [],
   "source": [
    "def diagonalDifference(data):\n",
    "    \n",
    "    on_tr_sum = 0\n",
    "    opp_tr_sum = 0\n",
    "    on_tr_idx = 0;\n",
    "    opp_tr_idx = len(data)-1;\n",
    "    \n",
    "    for i in range(len(data)):\n",
    "        on_tr_sum += data[i][on_tr_idx]\n",
    "        opp_tr_sum += data[i][opp_tr_idx]\n",
    "        on_tr_idx += 1\n",
    "        opp_tr_idx -= 1\n",
    "    \n",
    "    return abs(on_tr_sum - opp_tr_sum)"
   ]
  },
  {
   "cell_type": "code",
   "execution_count": 7,
   "id": "serious-english",
   "metadata": {},
   "outputs": [],
   "source": [
    "result = diagonalDifference(data)"
   ]
  },
  {
   "cell_type": "code",
   "execution_count": 8,
   "id": "boxed-strain",
   "metadata": {},
   "outputs": [
    {
     "data": {
      "text/plain": [
       "15"
      ]
     },
     "execution_count": 8,
     "metadata": {},
     "output_type": "execute_result"
    }
   ],
   "source": [
    "result"
   ]
  },
  {
   "cell_type": "code",
   "execution_count": null,
   "id": "incorporated-traveler",
   "metadata": {},
   "outputs": [],
   "source": []
  }
 ],
 "metadata": {
  "kernelspec": {
   "display_name": "Python [conda env:tensorflow] *",
   "language": "python",
   "name": "conda-env-tensorflow-py"
  },
  "language_info": {
   "codemirror_mode": {
    "name": "ipython",
    "version": 3
   },
   "file_extension": ".py",
   "mimetype": "text/x-python",
   "name": "python",
   "nbconvert_exporter": "python",
   "pygments_lexer": "ipython3",
   "version": "3.8.5"
  }
 },
 "nbformat": 4,
 "nbformat_minor": 5
}
