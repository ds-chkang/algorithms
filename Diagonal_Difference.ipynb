{
 "cells": [
  {
   "cell_type": "code",
   "execution_count": 45,
   "id": "ancient-sending",
   "metadata": {},
   "outputs": [],
   "source": [
    "# 행렬에서 정방향 TRACE와 반대 방향 TRACE 합의 차이 구하기."
   ]
  },
  {
   "cell_type": "code",
   "execution_count": 46,
   "id": "native-patrick",
   "metadata": {},
   "outputs": [],
   "source": [
    "arr = [\n",
    "        [11,2,4],\n",
    "        [4,5,6],\n",
    "        [10,8,-12]\n",
    "]"
   ]
  },
  {
   "cell_type": "code",
   "execution_count": 47,
   "id": "measured-cookie",
   "metadata": {},
   "outputs": [],
   "source": [
    "def diagonalDifference(arr):\n",
    "    on_tr_sum = 0\n",
    "    opp_tr_sum = 0\n",
    "    on_tr_idx = 0;\n",
    "    opp_tr_idx = len(arr)-1;\n",
    "    for i in range(len(arr)):\n",
    "        on_tr_sum += arr[i][on_tr_idx]\n",
    "        opp_tr_sum += arr[i][opp_tr_idx]\n",
    "        on_tr_idx += 1\n",
    "        opp_tr_idx -= 1\n",
    "    return abs(on_tr_sum - opp_tr_sum)"
   ]
  },
  {
   "cell_type": "code",
   "execution_count": 48,
   "id": "weekly-leeds",
   "metadata": {},
   "outputs": [],
   "source": [
    "result = diagonalDifference(arr)"
   ]
  },
  {
   "cell_type": "code",
   "execution_count": 49,
   "id": "monthly-virus",
   "metadata": {},
   "outputs": [
    {
     "data": {
      "text/plain": [
       "15"
      ]
     },
     "execution_count": 49,
     "metadata": {},
     "output_type": "execute_result"
    }
   ],
   "source": [
    "result"
   ]
  },
  {
   "cell_type": "code",
   "execution_count": null,
   "id": "secret-windsor",
   "metadata": {},
   "outputs": [],
   "source": []
  }
 ],
 "metadata": {
  "kernelspec": {
   "display_name": "Python [conda env:tensorflow] *",
   "language": "python",
   "name": "conda-env-tensorflow-py"
  },
  "language_info": {
   "codemirror_mode": {
    "name": "ipython",
    "version": 3
   },
   "file_extension": ".py",
   "mimetype": "text/x-python",
   "name": "python",
   "nbconvert_exporter": "python",
   "pygments_lexer": "ipython3",
   "version": "3.8.5"
  }
 },
 "nbformat": 4,
 "nbformat_minor": 5
}
