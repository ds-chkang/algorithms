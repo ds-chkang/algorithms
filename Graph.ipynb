{
 "cells": [
  {
   "cell_type": "code",
   "execution_count": 200,
   "id": "defined-fifth",
   "metadata": {},
   "outputs": [],
   "source": [
    "class Edge:\n",
    "    \n",
    "    def __init__(self, source, dest):\n",
    "        self.source = source\n",
    "        self.dest = dest\n",
    "        \n",
    "    def get_source(self):\n",
    "        return self.source\n",
    "    \n",
    "    def get_dest(self):\n",
    "        return self.dest\n",
    "    \n",
    "    def is_source(self, node):\n",
    "        if node is self.source:\n",
    "            return True\n",
    "        return False\n",
    "    \n",
    "    def is_dest(self, node):\n",
    "        if node is self.dest:\n",
    "            return True\n",
    "        return False"
   ]
  },
  {
   "cell_type": "code",
   "execution_count": 201,
   "id": "connected-conflict",
   "metadata": {},
   "outputs": [],
   "source": [
    "class Node:\n",
    "\n",
    "    def __init__(self, data):\n",
    "        self.data = data\n",
    "        self.visited = False"
   ]
  },
  {
   "cell_type": "code",
   "execution_count": 226,
   "id": "partial-living",
   "metadata": {},
   "outputs": [],
   "source": [
    "# Graph 구현\n",
    "\n",
    "class Graph:\n",
    "    \n",
    "    def __init__(self):\n",
    "        self.nodes = set()\n",
    "        self.edges = set()\n",
    "        \n",
    "    def add_node(self, node):\n",
    "        self.nodes.add(node)\n",
    "    \n",
    "    def add_edge(self, edge):\n",
    "        self.edges.add(edge)\n",
    "    \n",
    "    def get_source(self, edge):\n",
    "        return edge.get_source()\n",
    "    \n",
    "    def get_edges(self):\n",
    "        return self.edges\n",
    "    \n",
    "    def get_nodes(self):\n",
    "        return self.nodes\n",
    "    \n",
    "    def get_neighbors(self, node):\n",
    "        neighbors = set()\n",
    "        for edge in self.edges:\n",
    "            if edge.get_source() is node:\n",
    "                neighbors.add(edge.get_dest())\n",
    "            elif edge.get_dest() is node: \n",
    "                neighbors.add(edge.get_source())\n",
    "        return neighbors\n",
    "    \n",
    "    def get_successors(self, node):\n",
    "        successors = set()\n",
    "        for edge in self.edges:\n",
    "            if edge.get_source() is node:\n",
    "                successors.add(edge.get_dest())\n",
    "        return successors\n",
    "    \n",
    "    def get_predecessors(self, node):\n",
    "        predecessors = set()\n",
    "        for edge in self.edges:\n",
    "            if edge.get_dest() is node:\n",
    "                predecessors.add(edge.get_source())\n",
    "        return predecessors\n",
    "    \n",
    "    def dfs(self, stack):   \n",
    "        parent = stack.pop()\n",
    "        self.display(\"Node: \" + str(parent.data) + \" popped.\")\n",
    "        for neighbor in self.get_neighbors(parent):\n",
    "            if neighbor.visited == False:\n",
    "                neighbor.visited = True\n",
    "                stack.append(neighbor)\n",
    "                self.display(\"Node: \" + str(neighbor.data) + \" added.\")\n",
    "        if len(stack) > 0:\n",
    "            self.dfs(stack)\n",
    "    \n",
    "    def bfs(self, queue):\n",
    "        parent = queue.pop(0)\n",
    "        self.display(\"Node: \" + str(parent.data) + \" served.\")\n",
    "        for neighbor in self.get_neighbors(parent):\n",
    "            if neighbor.visited == False:\n",
    "                neighbor.visited = True\n",
    "                queue.append(neighbor)\n",
    "                self.display(\"Node: \" + str(neighbor.data) + \" added.\")\n",
    "        if len(queue) > 0:\n",
    "            self.bfs(queue)\n",
    "    \n",
    "    def reset_node_visited(self):\n",
    "        for node in self.get_nodes():\n",
    "            node.visited = False\n",
    "    \n",
    "    def display(self, str):\n",
    "        print (str)"
   ]
  },
  {
   "cell_type": "code",
   "execution_count": 227,
   "id": "ranging-farming",
   "metadata": {},
   "outputs": [],
   "source": [
    "node1 = Node(1)\n",
    "node2 = Node(2)\n",
    "node3 = Node(3)\n",
    "node4 = Node(4)"
   ]
  },
  {
   "cell_type": "code",
   "execution_count": 228,
   "id": "elementary-taiwan",
   "metadata": {},
   "outputs": [],
   "source": [
    "edge1 = Edge(node1, node2)\n",
    "edge2 = Edge(node1, node3)\n",
    "edge3 = Edge(node2, node3)\n",
    "edge4 = Edge(node2, node4)"
   ]
  },
  {
   "cell_type": "code",
   "execution_count": 229,
   "id": "imposed-sphere",
   "metadata": {},
   "outputs": [],
   "source": [
    "graph = Graph()\n",
    "graph.add_node(node1)\n",
    "graph.add_node(node2)\n",
    "graph.add_node(node3)\n",
    "graph.add_node(node4)\n",
    "\n",
    "graph.add_edge(edge1)\n",
    "graph.add_edge(edge2)\n",
    "graph.add_edge(edge3)\n",
    "graph.add_edge(edge4)"
   ]
  },
  {
   "cell_type": "code",
   "execution_count": 230,
   "id": "rubber-residence",
   "metadata": {},
   "outputs": [
    {
     "name": "stdout",
     "output_type": "stream",
     "text": [
      "Node: 1 added\n",
      "Node: 1 popped.\n",
      "Node: 3 added.\n",
      "Node: 2 added.\n",
      "Node: 2 popped.\n",
      "Node: 4 added.\n",
      "Node: 4 popped.\n",
      "Node: 3 popped.\n"
     ]
    }
   ],
   "source": [
    "node1.visited = True\n",
    "stack = [node1]\n",
    "graph.display(\"Node: \" + str(node1.data) + \" added\")\n",
    "graph.dfs(stack)"
   ]
  },
  {
   "cell_type": "code",
   "execution_count": 231,
   "id": "logical-hartford",
   "metadata": {},
   "outputs": [],
   "source": [
    "graph.reset_node_visited()"
   ]
  },
  {
   "cell_type": "code",
   "execution_count": 232,
   "id": "dietary-original",
   "metadata": {},
   "outputs": [
    {
     "name": "stdout",
     "output_type": "stream",
     "text": [
      "Node: 1 added\n",
      "Node: 1 served.\n",
      "Node: 3 added.\n",
      "Node: 2 added.\n",
      "Node: 3 served.\n",
      "Node: 2 served.\n",
      "Node: 4 added.\n",
      "Node: 4 served.\n"
     ]
    }
   ],
   "source": [
    "node1.visited = True\n",
    "queue = [node1]\n",
    "graph.display(\"Node: \" + str(node1.data) + \" added\")\n",
    "graph.bfs(queue)"
   ]
  },
  {
   "cell_type": "code",
   "execution_count": null,
   "id": "rational-declaration",
   "metadata": {},
   "outputs": [],
   "source": []
  }
 ],
 "metadata": {
  "kernelspec": {
   "display_name": "Python 3",
   "language": "python",
   "name": "python3"
  },
  "language_info": {
   "codemirror_mode": {
    "name": "ipython",
    "version": 3
   },
   "file_extension": ".py",
   "mimetype": "text/x-python",
   "name": "python",
   "nbconvert_exporter": "python",
   "pygments_lexer": "ipython3",
   "version": "3.8.5"
  }
 },
 "nbformat": 4,
 "nbformat_minor": 5
}
