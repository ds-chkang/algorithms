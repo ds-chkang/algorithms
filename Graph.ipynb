{
 "cells": [
  {
   "cell_type": "code",
   "execution_count": 145,
   "id": "appropriate-tribe",
   "metadata": {},
   "outputs": [],
   "source": [
    "class Edge:\n",
    "    \n",
    "    def __init__(self, source, dest):\n",
    "        self.source = source\n",
    "        self.dest = dest\n",
    "        \n",
    "    def get_source(self):\n",
    "        return self.source\n",
    "    \n",
    "    def get_dest(self):\n",
    "        return self.dest"
   ]
  },
  {
   "cell_type": "code",
   "execution_count": 146,
   "id": "mysterious-flexibility",
   "metadata": {},
   "outputs": [],
   "source": [
    "class Node:\n",
    "\n",
    "    def __init__(self, data):\n",
    "        self.data = data"
   ]
  },
  {
   "cell_type": "code",
   "execution_count": 147,
   "id": "covered-sheet",
   "metadata": {},
   "outputs": [],
   "source": [
    "# Graph 구현\n",
    "\n",
    "class Graph:\n",
    "    \n",
    "    def __init__(self):\n",
    "        self.nodes = set()\n",
    "        self.edges = set()\n",
    "        \n",
    "    def add_node(self, node):\n",
    "        self.nodes.add(node)\n",
    "    \n",
    "    def add_edge(self, edge):\n",
    "        self.edges.add(edge)\n",
    "    \n",
    "    def get_source(self, edge):\n",
    "        return edge.get_source()\n",
    "    \n",
    "    def get_edges(self):\n",
    "        return self.edges\n",
    "    \n",
    "    def get_nodes(self):\n",
    "        return self.nodes\n",
    "    \n",
    "    def get_successors(self, node):\n",
    "        successors = set()\n",
    "        for edge in self.edges:\n",
    "            if edge.get_source() is node:\n",
    "                successors.add(edge.get_dest())\n",
    "        return successors"
   ]
  },
  {
   "cell_type": "code",
   "execution_count": 148,
   "id": "ultimate-paintball",
   "metadata": {},
   "outputs": [],
   "source": [
    "node1 = Node(1)\n",
    "node2 = Node(2)\n",
    "node3 = Node(3)\n",
    "node4 = Node(4)"
   ]
  },
  {
   "cell_type": "code",
   "execution_count": 149,
   "id": "atlantic-assist",
   "metadata": {},
   "outputs": [],
   "source": [
    "edge1 = Edge(node1, node2)\n",
    "edge2 = Edge(node1, node3)\n",
    "edge3 = Edge(node2, node3)\n",
    "edge4 = Edge(node2, node4)"
   ]
  },
  {
   "cell_type": "code",
   "execution_count": 153,
   "id": "married-rachel",
   "metadata": {},
   "outputs": [],
   "source": [
    "graph = Graph()\n",
    "graph.add_node(node1)\n",
    "graph.add_node(node2)\n",
    "graph.add_node(node3)\n",
    "graph.add_node(node4)\n",
    "\n",
    "graph.add_edge(edge1)\n",
    "graph.add_edge(edge2)\n",
    "graph.add_edge(edge3)\n",
    "graph.add_edge(edge4)"
   ]
  },
  {
   "cell_type": "code",
   "execution_count": 154,
   "id": "compressed-service",
   "metadata": {
    "scrolled": true
   },
   "outputs": [
    {
     "name": "stdout",
     "output_type": "stream",
     "text": [
      "3\n",
      "1\n",
      "4\n",
      "2\n"
     ]
    }
   ],
   "source": [
    "for node in graph.get_nodes():\n",
    "    print (node.data)"
   ]
  },
  {
   "cell_type": "code",
   "execution_count": 155,
   "id": "flying-cache",
   "metadata": {},
   "outputs": [
    {
     "name": "stdout",
     "output_type": "stream",
     "text": [
      "3 2 "
     ]
    }
   ],
   "source": [
    "for successor in graph.get_successors(node1):\n",
    "    print (successor.data, end=' ')"
   ]
  },
  {
   "cell_type": "code",
   "execution_count": null,
   "id": "bound-secondary",
   "metadata": {},
   "outputs": [],
   "source": []
  },
  {
   "cell_type": "code",
   "execution_count": null,
   "id": "numerical-certificate",
   "metadata": {},
   "outputs": [],
   "source": []
  },
  {
   "cell_type": "code",
   "execution_count": null,
   "id": "printable-inquiry",
   "metadata": {},
   "outputs": [],
   "source": []
  },
  {
   "cell_type": "code",
   "execution_count": null,
   "id": "technological-answer",
   "metadata": {},
   "outputs": [],
   "source": []
  },
  {
   "cell_type": "code",
   "execution_count": null,
   "id": "complicated-bundle",
   "metadata": {},
   "outputs": [],
   "source": []
  }
 ],
 "metadata": {
  "kernelspec": {
   "display_name": "Python 3",
   "language": "python",
   "name": "python3"
  },
  "language_info": {
   "codemirror_mode": {
    "name": "ipython",
    "version": 3
   },
   "file_extension": ".py",
   "mimetype": "text/x-python",
   "name": "python",
   "nbconvert_exporter": "python",
   "pygments_lexer": "ipython3",
   "version": "3.8.5"
  }
 },
 "nbformat": 4,
 "nbformat_minor": 5
}
