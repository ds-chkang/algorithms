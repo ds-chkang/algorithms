{
 "cells": [
  {
   "cell_type": "code",
   "execution_count": null,
   "id": "sized-increase",
   "metadata": {},
   "outputs": [],
   "source": [
    "'''\n",
    "BINARY TREE 만들기 예제입니다.\n",
    "\n",
    "1. 설명: 어레이 데이터를 받아서 아래의 그림과 같은 바이너리 트리와 같은 COMPLETE BINARY TREE를 만들게 됩니다. 어레이로 부터 데이터를 입력 받을\n",
    "때는, 홀수 번 인덱스에 있는 데이터는 왼쪽, 짝수번 인덱스에 있는 데이터는 오른쪽으로 삽입됩니다.\n",
    "\n",
    "\n",
    "        0\n",
    "      /   \\\n",
    "     1     2\n",
    "    / \\   / \\\n",
    "   3   4 5   6\n",
    "\n",
    "\n",
    "- 아래와 같이 데이터를 생성합니다.\n",
    "data = [x for x in range(7)]\n",
    "[0,1,2,3,4,5,6]\n",
    "\n",
    "- 바이너리 트리 객체를 생성한 후, 데이터를 트리에 삽입합니다.\n",
    "bt = BinaryTree()\n",
    "root = None\n",
    "root = bt.insert(0, root, data)\n",
    "\n",
    "2. 삽입 되는 순서 시뮬레이션\n",
    "i = 0 일 때:\n",
    "\n",
    "        0\n",
    "        \n",
    "i = (i*2)+1 = 1 일 때, 왼쪽 노드에 추가할 수 있는 데이터가 어레이에 있기 때문에 아래와 같이 됩니다.\n",
    "        0\n",
    "       /\n",
    "      1\n",
    "      \n",
    "i = (i*2)+1 = 3 일 때, 왼쪽 노드에 추가할 수 있는 데이터가 어레이에 있기 때문에 아래와 같이 됩니다.\n",
    "        0\n",
    "       /\n",
    "      1\n",
    "     /\n",
    "    3\n",
    "\n",
    "i = (i*2)+1 = 7 일 때: 어레이 인덱스 보다 크기 때문에 NULL이 리턴 되고, i = 1 일 때로 돌아가서 오른쪽 노드를 삽입하는 작업을 수행하게 됩니다.\n",
    "\n",
    "i = 1 일 때:\n",
    "i = (i*2)+2 = 4 가 되며 아래와 같이 노드가 삽입됩니다:\n",
    "        0\n",
    "       /\n",
    "      1\n",
    "     / \\\n",
    "    3   4\n",
    "    \n",
    "그 다음은 i가 왼쪽과 오른쪽 모두 어레이 인덱스 보다 커지게 되어, i=0 일 때로 돌아가서 오른쪽 노드에 남은 어레이 데이터를 삽입하는 \n",
    "작업을 수행하게 됩니다.\n",
    "\n",
    "i = 0\n",
    "i = (i*2)+2 = 2, \n",
    "\n",
    "        0\n",
    "      /    \\\n",
    "     1      2\n",
    "    / \\    \n",
    "   3   4  \n",
    "\n",
    "i = 2 일 때:\n",
    "i = (i*2)+1 = 5,\n",
    "\n",
    "        0\n",
    "      /    \\\n",
    "     1      2\n",
    "    / \\    /\n",
    "   3   4  5\n",
    "\n",
    "그 다음은 어레이에서 왼쪽으로 삽입할 수 있는 데이턱 없기 때문에, 현재 노드 5를 리턴하고, 노드 2 의 오른쪽에 노드 6을 삽입하고 종료합니다.\n",
    "\n",
    "        0\n",
    "      /   \\\n",
    "     1     2\n",
    "    / \\   / \\\n",
    "   3   4 5   6\n",
    "\n",
    "COMPLETE TREE를 만들려고 했는데, 결과적으로 PERFECT TREE로 되었습니다.\n",
    "\n",
    "\n",
    "NOTE: COMPLETE BINARY TREE의 의미는 트리의 노드가 왼쪽에서 부터 더해지는 것을 의미합니다. 어레이의 마지막\n",
    "데이터가 남아 있을 때, 트리에 더하는 기준은 왼쪽부터 시작이 되는 것을 의미합니다.\n",
    "\n",
    "3. 특정 노드 찾기: INORDER 방법으로 찾게 됩니다.\n",
    "NOTE: INORDER 방법으로 찾는 다는 것은, 트리의 왼쪽으로 가장 깊이 들어가서 노드를 검색하고 없으면 부모로 올라와서 검색하고 \n",
    "없으면 오른쪽으로 가서 검색하고, 없으면 다음 상위 노드로 옮겨서 왼쪽, 부모, 그리고 오른쪽을 검색하는 것을 되풀이하는 검색 방법을\n",
    "의미합니다.\n",
    "'''"
   ]
  },
  {
   "cell_type": "code",
   "execution_count": 154,
   "id": "steady-offer",
   "metadata": {},
   "outputs": [],
   "source": [
    "data = [x for x in range(7)]"
   ]
  },
  {
   "cell_type": "code",
   "execution_count": 155,
   "id": "laughing-debate",
   "metadata": {},
   "outputs": [
    {
     "name": "stdout",
     "output_type": "stream",
     "text": [
      "[0, 1, 2, 3, 4, 5, 6]\n"
     ]
    }
   ],
   "source": [
    "print (data)"
   ]
  },
  {
   "cell_type": "code",
   "execution_count": 156,
   "id": "pointed-rehabilitation",
   "metadata": {},
   "outputs": [],
   "source": [
    "class Node:\n",
    "    def __init__(self, data):\n",
    "        self.data = data\n",
    "        self.left = self.right = None"
   ]
  },
  {
   "cell_type": "code",
   "execution_count": 194,
   "id": "owned-detroit",
   "metadata": {},
   "outputs": [],
   "source": [
    "class BinaryTree:\n",
    "    def __init__(self, root):\n",
    "        self.root = root\n",
    "    \n",
    "    def __init__(self):\n",
    "        self.root = None\n",
    "        \n",
    "    '''\n",
    "        트리에 노드를 삽입할 때, 인덱스를 달리한 부분을 눈여겨 볼 필요가 있습니다.\n",
    "    '''\n",
    "    def insert(self, i, root, data):\n",
    "        if i < len(data):\n",
    "            root = Node(data[i])\n",
    "            left_i = 2*i+1\n",
    "            root.left = self.insert(left_i, root.left, data)\n",
    "            right_i = 2*i+2\n",
    "            root.right = self.insert(right_i, root.right, data)\n",
    "        return root\n",
    "    \n",
    "    '''\n",
    "        출력함수는 INORDER 형태로 맨 아래에 있는 노드까지 가서 먼저 출력하고, 없으면 한 단계 올라와서 부모를 출력하고\n",
    "        그 다음 오른쪽 노드를 출력하게 됩니다. 이러한 순서로 모든 트리에 있는 모든 노드를 출력하게 됩니다.\n",
    "    '''\n",
    "    def display(self, root):\n",
    "        if root != None:\n",
    "            self.display(root.left)\n",
    "            print (\"NODE: {}\".format(root.data))\n",
    "            self.display(root.right)\n",
    "    "
   ]
  },
  {
   "cell_type": "code",
   "execution_count": 195,
   "id": "stainless-nepal",
   "metadata": {},
   "outputs": [],
   "source": [
    "bt = BinaryTree()"
   ]
  },
  {
   "cell_type": "code",
   "execution_count": 196,
   "id": "miniature-candle",
   "metadata": {},
   "outputs": [],
   "source": [
    "root = None\n",
    "root = bt.insert(0, root, data)"
   ]
  },
  {
   "cell_type": "code",
   "execution_count": 197,
   "id": "exempt-viking",
   "metadata": {},
   "outputs": [
    {
     "name": "stdout",
     "output_type": "stream",
     "text": [
      "0\n"
     ]
    }
   ],
   "source": [
    "print (root.data)"
   ]
  },
  {
   "cell_type": "code",
   "execution_count": 198,
   "id": "mathematical-blank",
   "metadata": {},
   "outputs": [
    {
     "name": "stdout",
     "output_type": "stream",
     "text": [
      "NODE: 3\n",
      "NODE: 1\n",
      "NODE: 4\n",
      "NODE: 0\n",
      "NODE: 5\n",
      "NODE: 2\n",
      "NODE: 6\n"
     ]
    }
   ],
   "source": [
    "bt.display(root)"
   ]
  },
  {
   "cell_type": "code",
   "execution_count": null,
   "id": "received-november",
   "metadata": {},
   "outputs": [],
   "source": [
    "# 트리에 삽입된 모든 노드의 값을 출력해 보니, 앞서 설명한데로 노드들이 삽이되었다는 걸 확인 할 수 있습니다."
   ]
  }
 ],
 "metadata": {
  "kernelspec": {
   "display_name": "Python [conda env:tensorflow] *",
   "language": "python",
   "name": "conda-env-tensorflow-py"
  },
  "language_info": {
   "codemirror_mode": {
    "name": "ipython",
    "version": 3
   },
   "file_extension": ".py",
   "mimetype": "text/x-python",
   "name": "python",
   "nbconvert_exporter": "python",
   "pygments_lexer": "ipython3",
   "version": "3.8.5"
  }
 },
 "nbformat": 4,
 "nbformat_minor": 5
}
