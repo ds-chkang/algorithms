{
 "cells": [
  {
   "cell_type": "code",
   "execution_count": null,
   "id": "hawaiian-explorer",
   "metadata": {},
   "outputs": [],
   "source": [
    "'''\n",
    "바이너리 트리 LEVEL ORDER로 생성한 후\n",
    "INORDER로 노드에 있는 데이터 출력하기.\n",
    "'''"
   ]
  },
  {
   "cell_type": "code",
   "execution_count": 106,
   "id": "useful-advantage",
   "metadata": {},
   "outputs": [],
   "source": [
    "data = [1,2,3,4,5,6]"
   ]
  },
  {
   "cell_type": "code",
   "execution_count": 107,
   "id": "several-karaoke",
   "metadata": {},
   "outputs": [],
   "source": [
    "class Node:\n",
    "    def __init__(self, data):\n",
    "        self.data = data\n",
    "        self.left = self.right = None"
   ]
  },
  {
   "cell_type": "code",
   "execution_count": 108,
   "id": "static-graham",
   "metadata": {},
   "outputs": [],
   "source": [
    "def insert_by_level(data, root, i, n):\n",
    "    if i < n:\n",
    "        root = Node(data[i])\n",
    "        root.left = insert_by_level(data, root.left, 2*i+1, n)\n",
    "        root.right = insert_by_level(data, root.right, 2*i+2, n)\n",
    "    return root   \n",
    "\n",
    "def show_node_by_inorder(root):\n",
    "    if root != None:\n",
    "        show_node_by_inorder(root.left)\n",
    "        print (root.data, end=\" \")\n",
    "        show_node_by_inorder(root.right)"
   ]
  },
  {
   "cell_type": "code",
   "execution_count": 109,
   "id": "straight-chorus",
   "metadata": {},
   "outputs": [
    {
     "name": "stdout",
     "output_type": "stream",
     "text": [
      "4 2 5 1 6 3 "
     ]
    }
   ],
   "source": [
    "root = None\n",
    "n = len(data)\n",
    "root = insert_by_level(data, root, 0, n)\n",
    "show_node_by_inorder(root)"
   ]
  },
  {
   "cell_type": "code",
   "execution_count": null,
   "id": "rural-kazakhstan",
   "metadata": {},
   "outputs": [],
   "source": []
  },
  {
   "cell_type": "code",
   "execution_count": null,
   "id": "apparent-communications",
   "metadata": {},
   "outputs": [],
   "source": []
  }
 ],
 "metadata": {
  "kernelspec": {
   "display_name": "Python [conda env:tensorflow] *",
   "language": "python",
   "name": "conda-env-tensorflow-py"
  },
  "language_info": {
   "codemirror_mode": {
    "name": "ipython",
    "version": 3
   },
   "file_extension": ".py",
   "mimetype": "text/x-python",
   "name": "python",
   "nbconvert_exporter": "python",
   "pygments_lexer": "ipython3",
   "version": "3.8.5"
  }
 },
 "nbformat": 4,
 "nbformat_minor": 5
}
