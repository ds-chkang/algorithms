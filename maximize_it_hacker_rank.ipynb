{
 "cells": [
  {
   "cell_type": "code",
   "execution_count": null,
   "id": "overall-court",
   "metadata": {},
   "outputs": [],
   "source": [
    "# 숫자가 담긴 3개의 어레이가 주어지고, 각 어레이에서 하나의 숫자를 한 개씩 뽑아서 제곱한 다음에\n",
    "# 각 수를 모두 더한 뒤, modulos를 사용하여 값을 구한 뒤, 그 중에서 최대 값을 구하는 솔루션입니다."
   ]
  },
  {
   "cell_type": "code",
   "execution_count": 9,
   "id": "increased-ottawa",
   "metadata": {},
   "outputs": [],
   "source": [
    "from itertools import product"
   ]
  },
  {
   "cell_type": "code",
   "execution_count": 12,
   "id": "loaded-robert",
   "metadata": {},
   "outputs": [],
   "source": [
    "k = 3\n",
    "m = 1000\n",
    "sample_input = [\n",
    "                [2,5,4],\n",
    "                [3,7,8,9], \n",
    "                [5,5,7,8,9,10]] "
   ]
  },
  {
   "cell_type": "code",
   "execution_count": 13,
   "id": "fatal-fellowship",
   "metadata": {},
   "outputs": [
    {
     "name": "stdout",
     "output_type": "stream",
     "text": [
      "206\n"
     ]
    }
   ],
   "source": [
    "#k, m = map(int, raw_input().split())\n",
    "#n = (list(map(int, raw_input().split()))[1:] for _ in range(k))\n",
    "#results = map(lambda x: sum(i**2 for i in x) % m, product(*n))\n",
    "results = map(lambda x: sum(i**2 for i in x) % m, product(*sample_input))\n",
    "print(max(results))"
   ]
  },
  {
   "cell_type": "code",
   "execution_count": null,
   "id": "interracial-decrease",
   "metadata": {},
   "outputs": [],
   "source": []
  }
 ],
 "metadata": {
  "kernelspec": {
   "display_name": "Python [conda env:tensorflow] *",
   "language": "python",
   "name": "conda-env-tensorflow-py"
  },
  "language_info": {
   "codemirror_mode": {
    "name": "ipython",
    "version": 3
   },
   "file_extension": ".py",
   "mimetype": "text/x-python",
   "name": "python",
   "nbconvert_exporter": "python",
   "pygments_lexer": "ipython3",
   "version": "3.8.5"
  }
 },
 "nbformat": 4,
 "nbformat_minor": 5
}
