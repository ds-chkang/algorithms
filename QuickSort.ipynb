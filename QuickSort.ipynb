{
 "cells": [
  {
   "cell_type": "code",
   "execution_count": null,
   "id": "cloudy-tokyo",
   "metadata": {},
   "outputs": [],
   "source": [
    "# QUICK SORT 재현"
   ]
  },
  {
   "cell_type": "code",
   "execution_count": 10,
   "id": "under-forest",
   "metadata": {},
   "outputs": [],
   "source": [
    "import random"
   ]
  },
  {
   "cell_type": "code",
   "execution_count": 19,
   "id": "dried-extreme",
   "metadata": {},
   "outputs": [],
   "source": [
    "data = random.sample(range(1,100), 5)"
   ]
  },
  {
   "cell_type": "code",
   "execution_count": 26,
   "id": "impressed-tongue",
   "metadata": {},
   "outputs": [],
   "source": [
    "def quick_sort(data):\n",
    "    if len(data) <= 1:\n",
    "        return data\n",
    "    pivot = data[0]\n",
    "    data = data[1:]\n",
    "    \n",
    "    left_data = [x for x in data if x <= pivot]\n",
    "    right_data = [x for x in data if x > pivot]\n",
    "    \n",
    "    return quick_sort(left_data) + [pivot] + quick_sort(right_data)"
   ]
  },
  {
   "cell_type": "code",
   "execution_count": 27,
   "id": "hungarian-chocolate",
   "metadata": {},
   "outputs": [
    {
     "data": {
      "text/plain": [
       "[2, 8, 65, 68, 85]"
      ]
     },
     "execution_count": 27,
     "metadata": {},
     "output_type": "execute_result"
    }
   ],
   "source": [
    "quick_sort(data)"
   ]
  },
  {
   "cell_type": "code",
   "execution_count": null,
   "id": "grand-advertiser",
   "metadata": {},
   "outputs": [],
   "source": []
  }
 ],
 "metadata": {
  "kernelspec": {
   "display_name": "Python [conda env:tensorflow] *",
   "language": "python",
   "name": "conda-env-tensorflow-py"
  },
  "language_info": {
   "codemirror_mode": {
    "name": "ipython",
    "version": 3
   },
   "file_extension": ".py",
   "mimetype": "text/x-python",
   "name": "python",
   "nbconvert_exporter": "python",
   "pygments_lexer": "ipython3",
   "version": "3.8.5"
  }
 },
 "nbformat": 4,
 "nbformat_minor": 5
}
