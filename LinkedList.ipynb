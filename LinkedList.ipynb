{
 "cells": [
  {
   "cell_type": "code",
   "execution_count": null,
   "id": "drawn-treat",
   "metadata": {},
   "outputs": [],
   "source": [
    "# Node 클래스\n",
    "\n",
    "class Node:\n",
    "    def __init__(self, data):\n",
    "        self.data = data\n",
    "        self.next = None"
   ]
  },
  {
   "cell_type": "code",
   "execution_count": 237,
   "id": "heard-pointer",
   "metadata": {},
   "outputs": [],
   "source": [
    "# LinkedList 클래스\n",
    "\n",
    "class LinkedList:\n",
    "    def __init__(self):\n",
    "        self.head = None\n",
    "    \n",
    "    def add(self, node):\n",
    "        if self.head is None:\n",
    "            self.head = node\n",
    "        else:\n",
    "            tmp = self.head\n",
    "            while tmp.next is not None:\n",
    "                tmp = tmp.next\n",
    "            tmp.next = node\n",
    "    \n",
    "    def delete(self, node):\n",
    "        tmp = self.head\n",
    "        if tmp is node:\n",
    "            self.head = tmp.next\n",
    "        else:\n",
    "            prev = tmp\n",
    "            tmp = tmp.next\n",
    "            while tmp is not None:\n",
    "                if tmp is node:\n",
    "                    prev.next = tmp.next\n",
    "                    tmp = None\n",
    "                    break\n",
    "                prev = tmp\n",
    "                tmp = tmp.next\n",
    "    \n",
    "    def show(self):\n",
    "        tmp = self.head\n",
    "        print (tmp.data),\n",
    "        while tmp.next is not None:\n",
    "            tmp = tmp.next\n",
    "            print (tmp.data),\n",
    "        "
   ]
  },
  {
   "cell_type": "code",
   "execution_count": 238,
   "id": "concrete-dealing",
   "metadata": {},
   "outputs": [],
   "source": [
    "node1 = Node(1)\n",
    "node2 = Node(2)\n",
    "node3 = Node(3)\n",
    "node4 = Node(4)"
   ]
  },
  {
   "cell_type": "code",
   "execution_count": 239,
   "id": "announced-investor",
   "metadata": {},
   "outputs": [],
   "source": [
    "linked_list = LinkedList()\n",
    "linked_list.add(node1)\n",
    "linked_list.add(node2)\n",
    "linked_list.add(node3)\n",
    "linked_list.add(node4)"
   ]
  },
  {
   "cell_type": "code",
   "execution_count": 240,
   "id": "deadly-short",
   "metadata": {},
   "outputs": [
    {
     "name": "stdout",
     "output_type": "stream",
     "text": [
      "1\n",
      "2\n",
      "3\n",
      "4\n"
     ]
    }
   ],
   "source": [
    "linked_list.show()"
   ]
  },
  {
   "cell_type": "code",
   "execution_count": 241,
   "id": "laughing-attempt",
   "metadata": {},
   "outputs": [],
   "source": [
    "linked_list.delete(node1)"
   ]
  },
  {
   "cell_type": "code",
   "execution_count": 242,
   "id": "herbal-nickname",
   "metadata": {},
   "outputs": [
    {
     "name": "stdout",
     "output_type": "stream",
     "text": [
      "2\n",
      "3\n",
      "4\n"
     ]
    }
   ],
   "source": [
    "linked_list.show()"
   ]
  },
  {
   "cell_type": "code",
   "execution_count": null,
   "id": "graduate-passport",
   "metadata": {},
   "outputs": [],
   "source": []
  }
 ],
 "metadata": {
  "kernelspec": {
   "display_name": "Python 3",
   "language": "python",
   "name": "python3"
  },
  "language_info": {
   "codemirror_mode": {
    "name": "ipython",
    "version": 3
   },
   "file_extension": ".py",
   "mimetype": "text/x-python",
   "name": "python",
   "nbconvert_exporter": "python",
   "pygments_lexer": "ipython3",
   "version": "3.8.5"
  }
 },
 "nbformat": 4,
 "nbformat_minor": 5
}
