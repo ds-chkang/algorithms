{
 "cells": [
  {
   "cell_type": "code",
   "execution_count": 9,
   "id": "hindu-suspect",
   "metadata": {},
   "outputs": [],
   "source": [
    "class Queue:\n",
    "    def __init__(self):\n",
    "        self.queue = []\n",
    "    def push(self, data):\n",
    "        self.queue.append(data)\n",
    "    def pop(self):\n",
    "        del self.queue[0]\n",
    "    def show(self):\n",
    "        print (self.queue)"
   ]
  },
  {
   "cell_type": "code",
   "execution_count": 10,
   "id": "renewable-fields",
   "metadata": {},
   "outputs": [],
   "source": [
    "queue = Queue()"
   ]
  },
  {
   "cell_type": "code",
   "execution_count": 11,
   "id": "external-obligation",
   "metadata": {},
   "outputs": [],
   "source": [
    "queue.push(1)\n",
    "queue.push(2)\n",
    "queue.push(3)"
   ]
  },
  {
   "cell_type": "code",
   "execution_count": 12,
   "id": "worse-symposium",
   "metadata": {},
   "outputs": [],
   "source": [
    "queue.pop()"
   ]
  },
  {
   "cell_type": "code",
   "execution_count": 13,
   "id": "original-constraint",
   "metadata": {},
   "outputs": [
    {
     "name": "stdout",
     "output_type": "stream",
     "text": [
      "[2, 3]\n"
     ]
    }
   ],
   "source": [
    "queue.show()"
   ]
  },
  {
   "cell_type": "code",
   "execution_count": 15,
   "id": "incident-album",
   "metadata": {},
   "outputs": [],
   "source": [
    "queue.pop()"
   ]
  },
  {
   "cell_type": "code",
   "execution_count": 16,
   "id": "corresponding-aquatic",
   "metadata": {},
   "outputs": [
    {
     "name": "stdout",
     "output_type": "stream",
     "text": [
      "[3]\n"
     ]
    }
   ],
   "source": [
    "queue.show()"
   ]
  },
  {
   "cell_type": "code",
   "execution_count": 18,
   "id": "hungry-marking",
   "metadata": {},
   "outputs": [],
   "source": [
    "class Stack:\n",
    "    def __init__(self):\n",
    "        self.stack = []\n",
    "    def push(self, data):\n",
    "        self.stack.append(data)\n",
    "    def pop(self):\n",
    "        self.stack.pop()\n",
    "    def peek(self):\n",
    "        print (self.stack[-1])\n",
    "    def show(self):\n",
    "        print (self.stack)"
   ]
  },
  {
   "cell_type": "code",
   "execution_count": 19,
   "id": "artificial-disney",
   "metadata": {},
   "outputs": [
    {
     "name": "stdout",
     "output_type": "stream",
     "text": [
      "[1, 2, 3]\n"
     ]
    }
   ],
   "source": [
    "stack = Stack()\n",
    "stack.push(1)\n",
    "stack.push(2)\n",
    "stack.push(3)\n",
    "stack.push(4)\n",
    "stack.pop()\n",
    "stack.show()\n"
   ]
  },
  {
   "cell_type": "code",
   "execution_count": 20,
   "id": "civilian-conversation",
   "metadata": {},
   "outputs": [
    {
     "name": "stdout",
     "output_type": "stream",
     "text": [
      "3\n"
     ]
    }
   ],
   "source": [
    "stack.peek()"
   ]
  },
  {
   "cell_type": "code",
   "execution_count": null,
   "id": "treated-donna",
   "metadata": {},
   "outputs": [],
   "source": [
    "class Node:\n",
    "    "
   ]
  },
  {
   "cell_type": "code",
   "execution_count": null,
   "id": "technological-diversity",
   "metadata": {},
   "outputs": [],
   "source": []
  },
  {
   "cell_type": "code",
   "execution_count": null,
   "id": "tropical-croatia",
   "metadata": {},
   "outputs": [],
   "source": []
  },
  {
   "cell_type": "code",
   "execution_count": null,
   "id": "beautiful-effectiveness",
   "metadata": {},
   "outputs": [],
   "source": []
  }
 ],
 "metadata": {
  "kernelspec": {
   "display_name": "Python 3",
   "language": "python",
   "name": "python3"
  },
  "language_info": {
   "codemirror_mode": {
    "name": "ipython",
    "version": 3
   },
   "file_extension": ".py",
   "mimetype": "text/x-python",
   "name": "python",
   "nbconvert_exporter": "python",
   "pygments_lexer": "ipython3",
   "version": "3.8.5"
  }
 },
 "nbformat": 4,
 "nbformat_minor": 5
}
