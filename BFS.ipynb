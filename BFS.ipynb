{
 "cells": [
  {
   "cell_type": "code",
   "execution_count": 101,
   "id": "outstanding-heading",
   "metadata": {},
   "outputs": [],
   "source": [
    "# graph is in adjacent list representation\n",
    "graph = {\n",
    "            '1': ['2', '3', '4'],\n",
    "            '2': ['5', '6'],\n",
    "            '3': ['6', '9'],\n",
    "            '5': ['9', '10'],\n",
    "            '4': ['7', '8', '9'],\n",
    "            '7': ['11', '12'],\n",
    "            '6': ['11', '13'],\n",
    "            '9': ['11']\n",
    "}"
   ]
  },
  {
   "cell_type": "code",
   "execution_count": 104,
   "id": "worst-anime",
   "metadata": {},
   "outputs": [],
   "source": [
    "def BFS(graph, start, end):\n",
    "    # maintain a queue of paths\n",
    "    queue = []\n",
    "    # push the first path into the queue\n",
    "    queue.append([start])\n",
    "    while queue:\n",
    "        # get the first path from the queue\n",
    "        path = queue.pop(0)\n",
    "        # get the last node from the path\n",
    "        node = path[-1]\n",
    "        # path found\n",
    "        if node == end:\n",
    "            continue\n",
    "            #print (path)\n",
    "            #return path\n",
    "        else:\n",
    "            # enumerate all adjacent nodes, construct a new path and push it into the queue\n",
    "            print (\"PARENT PATH: \" + str(path))\n",
    "            for adjacent in graph.get(node,[]):\n",
    "                new_path = list(path)\n",
    "                new_path.append(adjacent)\n",
    "                queue.append(new_path)\n",
    "                print(\"QUEUE: \" + str(queue))\n",
    "        print (\"NEXT\")"
   ]
  },
  {
   "cell_type": "code",
   "execution_count": 105,
   "id": "serious-stations",
   "metadata": {},
   "outputs": [
    {
     "name": "stdout",
     "output_type": "stream",
     "text": [
      "PARENT PATH: ['1']\n",
      "QUEUE: [['1', '2']]\n",
      "QUEUE: [['1', '2'], ['1', '3']]\n",
      "QUEUE: [['1', '2'], ['1', '3'], ['1', '4']]\n",
      "NEXT\n",
      "PARENT PATH: ['1', '2']\n",
      "QUEUE: [['1', '3'], ['1', '4'], ['1', '2', '5']]\n",
      "QUEUE: [['1', '3'], ['1', '4'], ['1', '2', '5'], ['1', '2', '6']]\n",
      "NEXT\n",
      "PARENT PATH: ['1', '3']\n",
      "QUEUE: [['1', '4'], ['1', '2', '5'], ['1', '2', '6'], ['1', '3', '6']]\n",
      "QUEUE: [['1', '4'], ['1', '2', '5'], ['1', '2', '6'], ['1', '3', '6'], ['1', '3', '9']]\n",
      "NEXT\n",
      "PARENT PATH: ['1', '4']\n",
      "QUEUE: [['1', '2', '5'], ['1', '2', '6'], ['1', '3', '6'], ['1', '3', '9'], ['1', '4', '7']]\n",
      "QUEUE: [['1', '2', '5'], ['1', '2', '6'], ['1', '3', '6'], ['1', '3', '9'], ['1', '4', '7'], ['1', '4', '8']]\n",
      "QUEUE: [['1', '2', '5'], ['1', '2', '6'], ['1', '3', '6'], ['1', '3', '9'], ['1', '4', '7'], ['1', '4', '8'], ['1', '4', '9']]\n",
      "NEXT\n",
      "PARENT PATH: ['1', '2', '5']\n",
      "QUEUE: [['1', '2', '6'], ['1', '3', '6'], ['1', '3', '9'], ['1', '4', '7'], ['1', '4', '8'], ['1', '4', '9'], ['1', '2', '5', '9']]\n",
      "QUEUE: [['1', '2', '6'], ['1', '3', '6'], ['1', '3', '9'], ['1', '4', '7'], ['1', '4', '8'], ['1', '4', '9'], ['1', '2', '5', '9'], ['1', '2', '5', '10']]\n",
      "NEXT\n",
      "PARENT PATH: ['1', '2', '6']\n",
      "QUEUE: [['1', '3', '6'], ['1', '3', '9'], ['1', '4', '7'], ['1', '4', '8'], ['1', '4', '9'], ['1', '2', '5', '9'], ['1', '2', '5', '10'], ['1', '2', '6', '11']]\n",
      "QUEUE: [['1', '3', '6'], ['1', '3', '9'], ['1', '4', '7'], ['1', '4', '8'], ['1', '4', '9'], ['1', '2', '5', '9'], ['1', '2', '5', '10'], ['1', '2', '6', '11'], ['1', '2', '6', '13']]\n",
      "NEXT\n",
      "PARENT PATH: ['1', '3', '6']\n",
      "QUEUE: [['1', '3', '9'], ['1', '4', '7'], ['1', '4', '8'], ['1', '4', '9'], ['1', '2', '5', '9'], ['1', '2', '5', '10'], ['1', '2', '6', '11'], ['1', '2', '6', '13'], ['1', '3', '6', '11']]\n",
      "QUEUE: [['1', '3', '9'], ['1', '4', '7'], ['1', '4', '8'], ['1', '4', '9'], ['1', '2', '5', '9'], ['1', '2', '5', '10'], ['1', '2', '6', '11'], ['1', '2', '6', '13'], ['1', '3', '6', '11'], ['1', '3', '6', '13']]\n",
      "NEXT\n",
      "PARENT PATH: ['1', '3', '9']\n",
      "QUEUE: [['1', '4', '7'], ['1', '4', '8'], ['1', '4', '9'], ['1', '2', '5', '9'], ['1', '2', '5', '10'], ['1', '2', '6', '11'], ['1', '2', '6', '13'], ['1', '3', '6', '11'], ['1', '3', '6', '13'], ['1', '3', '9', '11']]\n",
      "NEXT\n",
      "PARENT PATH: ['1', '4', '7']\n",
      "QUEUE: [['1', '4', '8'], ['1', '4', '9'], ['1', '2', '5', '9'], ['1', '2', '5', '10'], ['1', '2', '6', '11'], ['1', '2', '6', '13'], ['1', '3', '6', '11'], ['1', '3', '6', '13'], ['1', '3', '9', '11'], ['1', '4', '7', '11']]\n",
      "QUEUE: [['1', '4', '8'], ['1', '4', '9'], ['1', '2', '5', '9'], ['1', '2', '5', '10'], ['1', '2', '6', '11'], ['1', '2', '6', '13'], ['1', '3', '6', '11'], ['1', '3', '6', '13'], ['1', '3', '9', '11'], ['1', '4', '7', '11'], ['1', '4', '7', '12']]\n",
      "NEXT\n",
      "PARENT PATH: ['1', '4', '8']\n",
      "NEXT\n",
      "PARENT PATH: ['1', '4', '9']\n",
      "QUEUE: [['1', '2', '5', '9'], ['1', '2', '5', '10'], ['1', '2', '6', '11'], ['1', '2', '6', '13'], ['1', '3', '6', '11'], ['1', '3', '6', '13'], ['1', '3', '9', '11'], ['1', '4', '7', '11'], ['1', '4', '7', '12'], ['1', '4', '9', '11']]\n",
      "NEXT\n",
      "PARENT PATH: ['1', '2', '5', '9']\n",
      "QUEUE: [['1', '2', '5', '10'], ['1', '2', '6', '11'], ['1', '2', '6', '13'], ['1', '3', '6', '11'], ['1', '3', '6', '13'], ['1', '3', '9', '11'], ['1', '4', '7', '11'], ['1', '4', '7', '12'], ['1', '4', '9', '11'], ['1', '2', '5', '9', '11']]\n",
      "NEXT\n",
      "PARENT PATH: ['1', '2', '5', '10']\n",
      "NEXT\n",
      "PARENT PATH: ['1', '2', '6', '13']\n",
      "NEXT\n",
      "PARENT PATH: ['1', '3', '6', '13']\n",
      "NEXT\n",
      "PARENT PATH: ['1', '4', '7', '12']\n",
      "NEXT\n"
     ]
    }
   ],
   "source": [
    "BFS(graph, '1', '11')"
   ]
  },
  {
   "cell_type": "code",
   "execution_count": null,
   "id": "polyphonic-drama",
   "metadata": {},
   "outputs": [],
   "source": []
  },
  {
   "cell_type": "code",
   "execution_count": null,
   "id": "robust-simple",
   "metadata": {},
   "outputs": [],
   "source": []
  }
 ],
 "metadata": {
  "kernelspec": {
   "display_name": "Python [conda env:tensorflow] *",
   "language": "python",
   "name": "conda-env-tensorflow-py"
  },
  "language_info": {
   "codemirror_mode": {
    "name": "ipython",
    "version": 3
   },
   "file_extension": ".py",
   "mimetype": "text/x-python",
   "name": "python",
   "nbconvert_exporter": "python",
   "pygments_lexer": "ipython3",
   "version": "3.8.5"
  }
 },
 "nbformat": 4,
 "nbformat_minor": 5
}
