{
 "cells": [
  {
   "cell_type": "code",
   "execution_count": null,
   "id": "cognitive-confirmation",
   "metadata": {},
   "outputs": [],
   "source": [
    "'''\n",
    "- SELECTION SORT 재현\n",
    "- 시간복잡도: N^2\n",
    "''' "
   ]
  },
  {
   "cell_type": "code",
   "execution_count": 33,
   "id": "naughty-interaction",
   "metadata": {},
   "outputs": [],
   "source": [
    "import random"
   ]
  },
  {
   "cell_type": "code",
   "execution_count": 67,
   "id": "large-template",
   "metadata": {},
   "outputs": [],
   "source": [
    "data = random.sample(range(0, 10000), 100)"
   ]
  },
  {
   "cell_type": "code",
   "execution_count": 68,
   "id": "communist-renaissance",
   "metadata": {},
   "outputs": [],
   "source": [
    "def swap_data(i, j, data):\n",
    "    tmp = data[i]\n",
    "    data[i] = data[j]\n",
    "    data[j] = tmp"
   ]
  },
  {
   "cell_type": "code",
   "execution_count": 69,
   "id": "settled-elimination",
   "metadata": {},
   "outputs": [],
   "source": [
    "def selection_sort(data):\n",
    "    for i in range(len(data)-1):\n",
    "        min_idx = i\n",
    "        for j in range(i+1, len(data)):\n",
    "            if data[min_idx] > data[j]:\n",
    "                swap_data(min_idx, j, data)"
   ]
  },
  {
   "cell_type": "code",
   "execution_count": 70,
   "id": "lyric-miracle",
   "metadata": {},
   "outputs": [],
   "source": [
    "selection_sort(data)"
   ]
  },
  {
   "cell_type": "code",
   "execution_count": 71,
   "id": "animated-holiday",
   "metadata": {},
   "outputs": [
    {
     "name": "stdout",
     "output_type": "stream",
     "text": [
      "85 104 152 312 580 603 653 725 756 829 933 1128 1896 1992 2061 2073 2088 2109 2142 2152 2363 2367 2443 2445 2478 2631 2636 2815 2880 3027 3224 3248 3262 3402 3408 3543 3775 3994 3996 4252 4369 4383 4466 4525 4577 4708 4757 4816 4897 5012 5081 5163 5172 5276 5282 5377 5484 5543 5613 5689 5738 5930 5950 6087 6328 6569 6571 6868 6905 7058 7276 7458 7701 7770 8175 8200 8357 8516 8594 8718 8801 8854 8863 8920 8962 8971 9030 9115 9125 9319 9394 9444 9524 9568 9630 9640 9703 9713 9763 9928 "
     ]
    }
   ],
   "source": [
    "for i in data:\n",
    "    print (i, end =' ')"
   ]
  },
  {
   "cell_type": "code",
   "execution_count": null,
   "id": "neural-brisbane",
   "metadata": {},
   "outputs": [],
   "source": []
  }
 ],
 "metadata": {
  "kernelspec": {
   "display_name": "Python [conda env:tensorflow] *",
   "language": "python",
   "name": "conda-env-tensorflow-py"
  },
  "language_info": {
   "codemirror_mode": {
    "name": "ipython",
    "version": 3
   },
   "file_extension": ".py",
   "mimetype": "text/x-python",
   "name": "python",
   "nbconvert_exporter": "python",
   "pygments_lexer": "ipython3",
   "version": "3.8.5"
  }
 },
 "nbformat": 4,
 "nbformat_minor": 5
}
