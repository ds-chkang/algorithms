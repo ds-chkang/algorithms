{
 "cells": [
  {
   "cell_type": "code",
   "execution_count": 5,
   "id": "clean-visiting",
   "metadata": {},
   "outputs": [],
   "source": [
    "# SELECTION SORT 재현\n",
    "\n",
    "data = [10,2,4,5,1,9,8,7,6,3,100,0]\n",
    "\n",
    "for i in range(len(data)):\n",
    "    min_loc = i\n",
    "    for j in range(i, len(data)):\n",
    "        if data[min_loc] > data[j]:\n",
    "            tmp = data[min_loc]\n",
    "            data[min_loc] = data[j]\n",
    "            data[j] = tmp     "
   ]
  },
  {
   "cell_type": "code",
   "execution_count": 6,
   "id": "trained-outline",
   "metadata": {},
   "outputs": [
    {
     "name": "stdout",
     "output_type": "stream",
     "text": [
      "[0, 1, 2, 3, 4, 5, 6, 7, 8, 9, 10, 100]\n"
     ]
    }
   ],
   "source": [
    "print (data)"
   ]
  },
  {
   "cell_type": "code",
   "execution_count": null,
   "id": "mineral-syndicate",
   "metadata": {},
   "outputs": [],
   "source": []
  }
 ],
 "metadata": {
  "kernelspec": {
   "display_name": "Python 3",
   "language": "python",
   "name": "python3"
  },
  "language_info": {
   "codemirror_mode": {
    "name": "ipython",
    "version": 3
   },
   "file_extension": ".py",
   "mimetype": "text/x-python",
   "name": "python",
   "nbconvert_exporter": "python",
   "pygments_lexer": "ipython3",
   "version": "3.8.5"
  }
 },
 "nbformat": 4,
 "nbformat_minor": 5
}
