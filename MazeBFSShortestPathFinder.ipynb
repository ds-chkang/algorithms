{
 "cells": [
  {
   "cell_type": "code",
   "execution_count": 74,
   "metadata": {},
   "outputs": [],
   "source": [
    "from collections import defaultdict"
   ]
  },
  {
   "cell_type": "code",
   "execution_count": 164,
   "metadata": {},
   "outputs": [],
   "source": [
    "maze1 = [\n",
    "    [1,0,1,1,1,1],\n",
    "    [1,0,1,0,1,0],\n",
    "    [1,0,1,0,1,1],\n",
    "    [1,1,1,0,1,1]\n",
    "]\n",
    "\n",
    "maze2 =[\n",
    "    [1,0,1,1,1,0,1,1,1,0,1,1,1,0,1,1,1,0,1,1,1,0,1,1,1],\n",
    "    [1,1,1,0,1,1,1,0,1,1,1,0,1,1,1,0,1,1,1,0,1,1,1,0,1]\n",
    "]"
   ]
  },
  {
   "cell_type": "code",
   "execution_count": 165,
   "metadata": {},
   "outputs": [
    {
     "data": {
      "text/plain": [
       "[[1, 0, 1, 1, 1, 1],\n",
       " [1, 0, 1, 0, 1, 0],\n",
       " [1, 0, 1, 0, 1, 1],\n",
       " [1, 1, 1, 0, 1, 1]]"
      ]
     },
     "execution_count": 165,
     "metadata": {},
     "output_type": "execute_result"
    }
   ],
   "source": [
    "maze1"
   ]
  },
  {
   "cell_type": "code",
   "execution_count": 166,
   "metadata": {},
   "outputs": [
    {
     "data": {
      "text/plain": [
       "[[1, 0, 1, 1, 1, 0, 1, 1, 1, 0, 1, 1, 1, 0, 1, 1, 1, 0, 1, 1, 1, 0, 1, 1, 1],\n",
       " [1, 1, 1, 0, 1, 1, 1, 0, 1, 1, 1, 0, 1, 1, 1, 0, 1, 1, 1, 0, 1, 1, 1, 0, 1]]"
      ]
     },
     "execution_count": 166,
     "metadata": {},
     "output_type": "execute_result"
    }
   ],
   "source": [
    "maze2"
   ]
  },
  {
   "cell_type": "code",
   "execution_count": 167,
   "metadata": {},
   "outputs": [],
   "source": [
    "graph = defaultdict(list)"
   ]
  },
  {
   "cell_type": "code",
   "execution_count": 169,
   "metadata": {},
   "outputs": [],
   "source": [
    "def get_graph(maze):\n",
    "    R = len(maze)-1\n",
    "    C = len(maze[0])-1\n",
    "    r = c = 0\n",
    "    \n",
    "    while r <= R:\n",
    "        if maze[r][c] == 1:\n",
    "            if c < C and maze[r][c+1] == 1:\n",
    "                graph[str(r)+str(c)].append(str(r)+str(c+1))\n",
    "\n",
    "            if c > 0 and maze[r][c-1] == 1:\n",
    "                graph[str(r)+str(c)].append(str(r)+str(c-1))\n",
    "                \n",
    "            if r < R and maze[r+1][c] == 1:\n",
    "                graph[str(r)+str(c)].append(str(r+1)+str(c))\n",
    "\n",
    "            if r > 0 and maze[r-1][c] == 1:\n",
    "                graph[str(r)+str(c)].append(str(r-1)+str(c))\n",
    "        c += 1\n",
    "        if c > C:\n",
    "            c = 0\n",
    "            r += 1\n",
    "    "
   ]
  },
  {
   "cell_type": "code",
   "execution_count": 170,
   "metadata": {},
   "outputs": [],
   "source": [
    "get_graph(maze1)"
   ]
  },
  {
   "cell_type": "code",
   "execution_count": 171,
   "metadata": {},
   "outputs": [
    {
     "data": {
      "text/plain": [
       "defaultdict(list,\n",
       "            {'00': ['10'],\n",
       "             '02': ['03', '12'],\n",
       "             '03': ['04', '02'],\n",
       "             '04': ['05', '03', '14'],\n",
       "             '05': ['04'],\n",
       "             '10': ['20', '00'],\n",
       "             '12': ['22', '02'],\n",
       "             '14': ['24', '04'],\n",
       "             '20': ['30', '10'],\n",
       "             '22': ['32', '12'],\n",
       "             '24': ['25', '34', '14'],\n",
       "             '25': ['24', '35'],\n",
       "             '30': ['31', '20'],\n",
       "             '31': ['32', '30'],\n",
       "             '32': ['31', '22'],\n",
       "             '34': ['35', '24'],\n",
       "             '35': ['34', '25']})"
      ]
     },
     "execution_count": 171,
     "metadata": {},
     "output_type": "execute_result"
    }
   ],
   "source": [
    "graph"
   ]
  },
  {
   "cell_type": "code",
   "execution_count": 172,
   "metadata": {},
   "outputs": [],
   "source": [
    "def bfs(start, dest):\n",
    "    queue = []\n",
    "    paths = []\n",
    "    queue.append([start])\n",
    "    min_cost = 100000000000\n",
    "    visited = dict()\n",
    "    visited[start] = True\n",
    "    \n",
    "    while queue:\n",
    "        path = queue.pop(0)\n",
    "        node = path[-1]\n",
    "\n",
    "        if node == dest:\n",
    "            if min_cost > len(path):\n",
    "                min_cost = len(path)\n",
    "            continue\n",
    "        else:\n",
    "            for adjacent in graph.get(node, []): \n",
    "                if visited.get(adjacent) != True:\n",
    "                    new_path = path + [adjacent]\n",
    "                    queue.append(new_path)\n",
    "                    paths.append(new_path)\n",
    "                    visited[adjacent] = True\n",
    "    return min_cost"
   ]
  },
  {
   "cell_type": "code",
   "execution_count": 173,
   "metadata": {},
   "outputs": [
    {
     "data": {
      "text/plain": [
       "15"
      ]
     },
     "execution_count": 173,
     "metadata": {},
     "output_type": "execute_result"
    }
   ],
   "source": [
    "bfs('00', '35')"
   ]
  },
  {
   "cell_type": "code",
   "execution_count": 174,
   "metadata": {},
   "outputs": [],
   "source": [
    "get_graph(maze2)"
   ]
  },
  {
   "cell_type": "code",
   "execution_count": 175,
   "metadata": {},
   "outputs": [
    {
     "data": {
      "text/plain": [
       "defaultdict(list,\n",
       "            {'00': ['10', '10'],\n",
       "             '02': ['03', '12', '03', '12'],\n",
       "             '03': ['04', '02', '04', '02'],\n",
       "             '04': ['05', '03', '14', '03', '14'],\n",
       "             '05': ['04'],\n",
       "             '10': ['20', '00', '11', '00'],\n",
       "             '12': ['22', '02', '11', '02'],\n",
       "             '14': ['24', '04', '15', '04'],\n",
       "             '20': ['30', '10'],\n",
       "             '22': ['32', '12'],\n",
       "             '24': ['25', '34', '14'],\n",
       "             '25': ['24', '35'],\n",
       "             '30': ['31', '20'],\n",
       "             '31': ['32', '30'],\n",
       "             '32': ['31', '22'],\n",
       "             '34': ['35', '24'],\n",
       "             '35': ['34', '25'],\n",
       "             '06': ['07', '16'],\n",
       "             '07': ['08', '06'],\n",
       "             '08': ['07', '18'],\n",
       "             '010': ['011', '110'],\n",
       "             '011': ['012', '010'],\n",
       "             '012': ['011', '112'],\n",
       "             '014': ['015', '114'],\n",
       "             '015': ['016', '014'],\n",
       "             '016': ['015', '116'],\n",
       "             '018': ['019', '118'],\n",
       "             '019': ['020', '018'],\n",
       "             '020': ['019', '120'],\n",
       "             '022': ['023', '122'],\n",
       "             '023': ['024', '022'],\n",
       "             '024': ['023', '124'],\n",
       "             '11': ['12', '10'],\n",
       "             '15': ['16', '14'],\n",
       "             '16': ['15', '06'],\n",
       "             '18': ['19', '08'],\n",
       "             '19': ['110', '18'],\n",
       "             '110': ['19', '010'],\n",
       "             '112': ['113', '012'],\n",
       "             '113': ['114', '112'],\n",
       "             '114': ['113', '014'],\n",
       "             '116': ['117', '016'],\n",
       "             '117': ['118', '116'],\n",
       "             '118': ['117', '018'],\n",
       "             '120': ['121', '020'],\n",
       "             '121': ['122', '120'],\n",
       "             '122': ['121', '022'],\n",
       "             '124': ['024']})"
      ]
     },
     "execution_count": 175,
     "metadata": {},
     "output_type": "execute_result"
    }
   ],
   "source": [
    "graph"
   ]
  },
  {
   "cell_type": "code",
   "execution_count": 176,
   "metadata": {},
   "outputs": [
    {
     "data": {
      "text/plain": [
       "38"
      ]
     },
     "execution_count": 176,
     "metadata": {},
     "output_type": "execute_result"
    }
   ],
   "source": [
    "bfs('00', '124')"
   ]
  },
  {
   "cell_type": "code",
   "execution_count": null,
   "metadata": {},
   "outputs": [],
   "source": []
  }
 ],
 "metadata": {
  "kernelspec": {
   "display_name": "Python 3",
   "language": "python",
   "name": "python3"
  },
  "language_info": {
   "codemirror_mode": {
    "name": "ipython",
    "version": 3
   },
   "file_extension": ".py",
   "mimetype": "text/x-python",
   "name": "python",
   "nbconvert_exporter": "python",
   "pygments_lexer": "ipython3",
   "version": "3.7.3"
  }
 },
 "nbformat": 4,
 "nbformat_minor": 2
}
