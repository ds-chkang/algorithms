{
 "cells": [
  {
   "cell_type": "code",
   "execution_count": null,
   "metadata": {},
   "outputs": [],
   "source": [
    "'''\n",
    "    미로의 출발점에서 목적지까지 가장 빠른 길을 찾는 솔루션입니다.\n",
    "    미로를 그래프로 생각을 하고, 그래프에서 경로를 찾을 때 사용하는 BFS알고리즘을 사용하여 가장 빠른 경로를 찾게 됩니다.\n",
    "    DFS의 시간 초과가 되어 가장 빠른 경로를 찾을 때는 적합하지 않습니다. 그래프는 Bidirectional 그래프로 생각을 합니다.\n",
    "    한 번 방문한 노드는 방문 했다는 Flag를 달아 재방문 하지 않도록 하는 것이 Key Point 입니다.\n",
    "    \n",
    "    데이터는 어레이로 주어졌고, 어레이에서 그래프를 구성할 수 있는 경로를 먼저 추출하여 그래프를 구성한 후, 그래프 상에서 BFS를 \n",
    "    수행합니다.\n",
    "'''"
   ]
  },
  {
   "cell_type": "code",
   "execution_count": 74,
   "metadata": {},
   "outputs": [],
   "source": [
    "from collections import defaultdict"
   ]
  },
  {
   "cell_type": "code",
   "execution_count": 164,
   "metadata": {},
   "outputs": [],
   "source": [
    "maze1 = [\n",
    "    [1,0,1,1,1,1],\n",
    "    [1,0,1,0,1,0],\n",
    "    [1,0,1,0,1,1],\n",
    "    [1,1,1,0,1,1]\n",
    "]\n",
    "\n",
    "maze2 =[\n",
    "    [1,0,1,1,1,0,1,1,1,0,1,1,1,0,1,1,1,0,1,1,1,0,1,1,1],\n",
    "    [1,1,1,0,1,1,1,0,1,1,1,0,1,1,1,0,1,1,1,0,1,1,1,0,1]\n",
    "]"
   ]
  },
  {
   "cell_type": "code",
   "execution_count": 167,
   "metadata": {},
   "outputs": [],
   "source": [
    "graph = defaultdict(list)"
   ]
  },
  {
   "cell_type": "code",
   "execution_count": 169,
   "metadata": {},
   "outputs": [],
   "source": [
    "def get_graph(maze):\n",
    "    R = len(maze)-1\n",
    "    C = len(maze[0])-1\n",
    "    r = c = 0\n",
    "    \n",
    "    while r <= R:\n",
    "        if maze[r][c] == 1:\n",
    "            if c < C and maze[r][c+1] == 1:\n",
    "                graph[str(r)+str(c)].append(str(r)+str(c+1))\n",
    "\n",
    "            if c > 0 and maze[r][c-1] == 1:\n",
    "                graph[str(r)+str(c)].append(str(r)+str(c-1))\n",
    "                \n",
    "            if r < R and maze[r+1][c] == 1:\n",
    "                graph[str(r)+str(c)].append(str(r+1)+str(c))\n",
    "\n",
    "            if r > 0 and maze[r-1][c] == 1:\n",
    "                graph[str(r)+str(c)].append(str(r-1)+str(c))\n",
    "        c += 1\n",
    "        if c > C:\n",
    "            c = 0\n",
    "            r += 1\n",
    "    "
   ]
  },
  {
   "cell_type": "code",
   "execution_count": 170,
   "metadata": {},
   "outputs": [],
   "source": [
    "get_graph(maze1)"
   ]
  },
  {
   "cell_type": "code",
   "execution_count": 182,
   "metadata": {},
   "outputs": [],
   "source": [
    "def bfs(start, dest):\n",
    "    queue = []\n",
    "    paths = []\n",
    "    queue.append([start])\n",
    "    min_cost = 1000000000000\n",
    "    visited = dict()\n",
    "    visited[start] = True\n",
    "    \n",
    "    while queue:\n",
    "        path = queue.pop(0)\n",
    "        node = path[-1]\n",
    "\n",
    "        if node == dest:\n",
    "            if min_cost > len(path):\n",
    "                min_cost = len(path)\n",
    "            continue\n",
    "        else:\n",
    "            for adjacent in graph.get(node, []): \n",
    "                if not visited.get(adjacent):\n",
    "                    new_path = path + [adjacent]\n",
    "                    queue.append(new_path)\n",
    "                    paths.append(new_path)\n",
    "                    visited[adjacent] = True\n",
    "    return min_cost"
   ]
  },
  {
   "cell_type": "code",
   "execution_count": 183,
   "metadata": {},
   "outputs": [
    {
     "data": {
      "text/plain": [
       "11"
      ]
     },
     "execution_count": 183,
     "metadata": {},
     "output_type": "execute_result"
    }
   ],
   "source": [
    "bfs('00', '35')"
   ]
  },
  {
   "cell_type": "code",
   "execution_count": 184,
   "metadata": {},
   "outputs": [],
   "source": [
    "get_graph(maze2)"
   ]
  },
  {
   "cell_type": "code",
   "execution_count": 187,
   "metadata": {},
   "outputs": [
    {
     "data": {
      "text/plain": [
       "38"
      ]
     },
     "execution_count": 187,
     "metadata": {},
     "output_type": "execute_result"
    }
   ],
   "source": [
    "bfs('00', '124')"
   ]
  }
 ],
 "metadata": {
  "kernelspec": {
   "display_name": "Python 3",
   "language": "python",
   "name": "python3"
  },
  "language_info": {
   "codemirror_mode": {
    "name": "ipython",
    "version": 3
   },
   "file_extension": ".py",
   "mimetype": "text/x-python",
   "name": "python",
   "nbconvert_exporter": "python",
   "pygments_lexer": "ipython3",
   "version": "3.7.3"
  }
 },
 "nbformat": 4,
 "nbformat_minor": 2
}
