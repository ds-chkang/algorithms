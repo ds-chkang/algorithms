{
 "cells": [
  {
   "cell_type": "code",
   "execution_count": null,
   "id": "intended-england",
   "metadata": {},
   "outputs": [],
   "source": [
    "'''\n",
    "   아주 큰 수들이 어레이로 주어졌을 때, 이들의 합 계산하는 문제 입니다.\n",
    "   HACKERRANK 문제 풀이 입니다.\n",
    "'''"
   ]
  },
  {
   "cell_type": "code",
   "execution_count": 1,
   "id": "unnecessary-contact",
   "metadata": {},
   "outputs": [],
   "source": [
    "data = [str(1000000001), str(1000000002), str(1000000003), str(1000000004), str(7000000005)]"
   ]
  },
  {
   "cell_type": "code",
   "execution_count": 2,
   "id": "characteristic-wings",
   "metadata": {},
   "outputs": [],
   "source": [
    "def equalize_elements_with_zeros(n1, n2):\n",
    "    zeros =''\n",
    "    if len(n1) > len(n2):\n",
    "        for _ in range(len(n1)-len(n2)):\n",
    "            zeros = zeros + '0' \n",
    "        n2 = zeros + n2\n",
    "    elif len(n1) < len(n2):\n",
    "        for _ in range(len(n2)-len(n1)):\n",
    "            zeros = zeros+'0' \n",
    "        n1 = zeros+n1    \n",
    "    return n1, n2\n",
    "    \n",
    "def get_sum(n1, n2):\n",
    "    result = ''\n",
    "    digit_sum = 0\n",
    "    for i in range(len(n1)-1, -1, -1):\n",
    "        digit_sum = int(n1[i]) + int(n2[i]) + digit_sum\n",
    "        if digit_sum <= 9:\n",
    "            result = str(digit_sum) + str(result)\n",
    "            digit_sum = 0\n",
    "        else:\n",
    "            result = str(int(str(digit_sum)[1])) + result\n",
    "            digit_sum = int(str(digit_sum)[0])\n",
    "    if digit_sum > 0:\n",
    "        result = str(digit_sum) + result\n",
    "    return result"
   ]
  },
  {
   "cell_type": "code",
   "execution_count": 3,
   "id": "alive-hypothetical",
   "metadata": {},
   "outputs": [
    {
     "name": "stdout",
     "output_type": "stream",
     "text": [
      "1000000001\n",
      "2000000003\n",
      "3000000006\n",
      "4000000010\n",
      "11000000015\n"
     ]
    }
   ],
   "source": [
    "result = ''\n",
    "for i in range(len(data)):\n",
    "    n1, n2 = equalize_elements_with_zeros(result, data[i])\n",
    "    result = get_sum(n1, n2)\n",
    "    print (result)"
   ]
  },
  {
   "cell_type": "code",
   "execution_count": 5,
   "id": "under-cookbook",
   "metadata": {},
   "outputs": [
    {
     "data": {
      "text/plain": [
       "11"
      ]
     },
     "execution_count": 5,
     "metadata": {},
     "output_type": "execute_result"
    }
   ],
   "source": [
    "len(result)"
   ]
  },
  {
   "cell_type": "code",
   "execution_count": 6,
   "id": "metropolitan-naples",
   "metadata": {},
   "outputs": [
    {
     "data": {
      "text/plain": [
       "'11000000015'"
      ]
     },
     "execution_count": 6,
     "metadata": {},
     "output_type": "execute_result"
    }
   ],
   "source": [
    "result"
   ]
  },
  {
   "cell_type": "code",
   "execution_count": null,
   "id": "greenhouse-technology",
   "metadata": {},
   "outputs": [],
   "source": []
  }
 ],
 "metadata": {
  "kernelspec": {
   "display_name": "Python [conda env:tensorflow] *",
   "language": "python",
   "name": "conda-env-tensorflow-py"
  },
  "language_info": {
   "codemirror_mode": {
    "name": "ipython",
    "version": 3
   },
   "file_extension": ".py",
   "mimetype": "text/x-python",
   "name": "python",
   "nbconvert_exporter": "python",
   "pygments_lexer": "ipython3",
   "version": "3.8.5"
  }
 },
 "nbformat": 4,
 "nbformat_minor": 5
}
