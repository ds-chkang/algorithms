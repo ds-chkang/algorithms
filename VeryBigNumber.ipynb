{
 "cells": [
  {
   "cell_type": "code",
   "execution_count": 266,
   "id": "vanilla-subsection",
   "metadata": {},
   "outputs": [],
   "source": [
    "numbers = [str(1000000001), str(1000000002), str(1000000003), str(1000000004), str(7000000005)]"
   ]
  },
  {
   "cell_type": "code",
   "execution_count": 267,
   "id": "third-function",
   "metadata": {},
   "outputs": [],
   "source": [
    "def equalize_number_element_legnths(number1, number2):\n",
    "    zero_marks =''\n",
    "    if len(number1) > len(number2):\n",
    "        for _ in range(len(number1)-len(number2)):\n",
    "            zero_marks = zero_marks+'0' \n",
    "        number2 = zero_marks+number2\n",
    "        return number1, number2\n",
    "        \n",
    "    elif len(number1) < len(number2):\n",
    "        for _ in range(len(number2)-len(number1)):\n",
    "            zero_marks = zero_marks+'0' \n",
    "        number1 = zero_marks+number1\n",
    "        return number1, number2 \n",
    "    \n",
    "    return number1, number2\n",
    "    \n",
    "def sum_numbers(number1, number2):\n",
    "    numbers_sum = ''\n",
    "    digit_sum = 0\n",
    "    for i in range(len(number1)-1, -1, -1):\n",
    "        digit_sum = int(number1[i]) + int(number2[i]) + digit_sum\n",
    "        if digit_sum <= 9:\n",
    "            numbers_sum = str(digit_sum) + str(numbers_sum)\n",
    "            digit_sum = 0\n",
    "        else:\n",
    "            numbers_sum = str(int(str(digit_sum)[1])) + numbers_sum\n",
    "            digit_sum = int(str(digit_sum)[0])\n",
    "    if digit_sum > 0:\n",
    "        numbers_sum = str(digit_sum) + numbers_sum\n",
    "    return numbers_sum"
   ]
  },
  {
   "cell_type": "code",
   "execution_count": 268,
   "id": "enabling-champagne",
   "metadata": {},
   "outputs": [
    {
     "name": "stdout",
     "output_type": "stream",
     "text": [
      "1000000001\n",
      "2000000003\n",
      "3000000006\n",
      "4000000010\n",
      "11000000015\n"
     ]
    },
    {
     "data": {
      "text/plain": [
       "'11000000015'"
      ]
     },
     "execution_count": 268,
     "metadata": {},
     "output_type": "execute_result"
    }
   ],
   "source": [
    "number_sum = ''\n",
    "for i in range(len(numbers)):\n",
    "    number_sum, number = equalize_number_element_legnths(number_sum, numbers[i])\n",
    "    number_sum = sum_numbers(number_sum, number)\n",
    "    print (number_sum)\n",
    "number_sum"
   ]
  },
  {
   "cell_type": "code",
   "execution_count": 265,
   "id": "headed-canada",
   "metadata": {},
   "outputs": [
    {
     "data": {
      "text/plain": [
       "10"
      ]
     },
     "execution_count": 265,
     "metadata": {},
     "output_type": "execute_result"
    }
   ],
   "source": [
    "len(number_sum)"
   ]
  },
  {
   "cell_type": "code",
   "execution_count": null,
   "id": "according-exemption",
   "metadata": {},
   "outputs": [],
   "source": []
  },
  {
   "cell_type": "code",
   "execution_count": null,
   "id": "european-customer",
   "metadata": {},
   "outputs": [],
   "source": []
  }
 ],
 "metadata": {
  "kernelspec": {
   "display_name": "Python [conda env:tensorflow] *",
   "language": "python",
   "name": "conda-env-tensorflow-py"
  },
  "language_info": {
   "codemirror_mode": {
    "name": "ipython",
    "version": 3
   },
   "file_extension": ".py",
   "mimetype": "text/x-python",
   "name": "python",
   "nbconvert_exporter": "python",
   "pygments_lexer": "ipython3",
   "version": "3.8.5"
  }
 },
 "nbformat": 4,
 "nbformat_minor": 5
}
