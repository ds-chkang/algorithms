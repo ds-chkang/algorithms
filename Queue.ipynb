{
 "cells": [
  {
   "cell_type": "code",
   "execution_count": null,
   "id": "alternate-victory",
   "metadata": {},
   "outputs": [],
   "source": [
    "# 리스트를 이용한 Queue 재현\n",
    "\n",
    "class Queue:\n",
    "    def __init__(self):\n",
    "        self.queue = []\n",
    "    def push(self, data):\n",
    "        self.queue.append(data)\n",
    "    def pop(self):\n",
    "        del self.queue[0]\n",
    "    def show(self):\n",
    "        print (self.queue)"
   ]
  }
 ],
 "metadata": {
  "kernelspec": {
   "display_name": "Python 3",
   "language": "python",
   "name": "python3"
  },
  "language_info": {
   "codemirror_mode": {
    "name": "ipython",
    "version": 3
   },
   "file_extension": ".py",
   "mimetype": "text/x-python",
   "name": "python",
   "nbconvert_exporter": "python",
   "pygments_lexer": "ipython3",
   "version": "3.8.5"
  }
 },
 "nbformat": 4,
 "nbformat_minor": 5
}
