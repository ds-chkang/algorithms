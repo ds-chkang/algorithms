{
 "cells": [
  {
   "cell_type": "code",
   "execution_count": 172,
   "id": "manual-father",
   "metadata": {},
   "outputs": [],
   "source": [
    "'''\n",
    "    10진수를 입력 데이터로 하여, 2진수, 8진수, 9진수로 출력합니다. 16진수와 그 외의 진수는 해당되지 않습니다.\n",
    "'''"
   ]
  },
  {
   "cell_type": "code",
   "execution_count": 179,
   "id": "enhanced-combination",
   "metadata": {},
   "outputs": [],
   "source": [
    "import random"
   ]
  },
  {
   "cell_type": "code",
   "execution_count": 180,
   "id": "delayed-ocean",
   "metadata": {},
   "outputs": [],
   "source": [
    "data = random.sample(range(1, 1000), 1)[0]"
   ]
  },
  {
   "cell_type": "code",
   "execution_count": 181,
   "id": "friendly-stylus",
   "metadata": {},
   "outputs": [],
   "source": [
    "data = 12"
   ]
  },
  {
   "cell_type": "code",
   "execution_count": 182,
   "id": "present-elizabeth",
   "metadata": {},
   "outputs": [],
   "source": [
    "def convert_base_to_binary(data, base):\n",
    "    quotient = int(data/base)\n",
    "    remainder = [int(data - quotient*base)]\n",
    "    data = quotient\n",
    "    \n",
    "    while quotient:\n",
    "        quotient = int(data/base)\n",
    "        remainder.append(int(data - quotient*base))\n",
    "        data = quotient\n",
    "    \n",
    "    return remainder     "
   ]
  },
  {
   "cell_type": "code",
   "execution_count": 183,
   "id": "sought-hypothesis",
   "metadata": {},
   "outputs": [],
   "source": [
    "bin_digits = convert_base_to_binary(data,9)"
   ]
  },
  {
   "cell_type": "code",
   "execution_count": 184,
   "id": "opposed-vintage",
   "metadata": {},
   "outputs": [
    {
     "name": "stdout",
     "output_type": "stream",
     "text": [
      "1 3 "
     ]
    }
   ],
   "source": [
    "for i in range(len(bin_digits)-1, -1, -1):\n",
    "    print (bin_digits[i], end=' ')"
   ]
  },
  {
   "cell_type": "code",
   "execution_count": null,
   "id": "funny-segment",
   "metadata": {},
   "outputs": [],
   "source": []
  }
 ],
 "metadata": {
  "kernelspec": {
   "display_name": "Python [conda env:tensorflow] *",
   "language": "python",
   "name": "conda-env-tensorflow-py"
  },
  "language_info": {
   "codemirror_mode": {
    "name": "ipython",
    "version": 3
   },
   "file_extension": ".py",
   "mimetype": "text/x-python",
   "name": "python",
   "nbconvert_exporter": "python",
   "pygments_lexer": "ipython3",
   "version": "3.8.5"
  }
 },
 "nbformat": 4,
 "nbformat_minor": 5
}
