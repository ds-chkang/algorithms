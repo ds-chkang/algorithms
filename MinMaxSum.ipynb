{
 "cells": [
  {
   "cell_type": "code",
   "execution_count": null,
   "id": "accurate-flood",
   "metadata": {},
   "outputs": [],
   "source": [
    "# 소팅이 되지 않은 리스트를 인풋으로 4개 수를 더해서 MinSUM과 MaxSum 찾기."
   ]
  },
  {
   "cell_type": "code",
   "execution_count": 74,
   "id": "experimental-detection",
   "metadata": {},
   "outputs": [],
   "source": [
    "data = [5,5,5,5,5]"
   ]
  },
  {
   "cell_type": "code",
   "execution_count": 72,
   "id": "universal-tattoo",
   "metadata": {},
   "outputs": [],
   "source": [
    "# Complete the miniMaxSum function below.\n",
    "def find_min_sum(arr, how_many_nums):\n",
    "    min_sum = 0\n",
    "    min_set = set()\n",
    "    data_set = set(arr)\n",
    "    for _ in range(how_many_nums):\n",
    "        try:\n",
    "            min_set.add(min(data_set.difference(min_set)))   \n",
    "        except:\n",
    "            break\n",
    "    if len(min_set) < how_many_nums:\n",
    "        min_sum = sum(min_set) + (sum(min_set)*(how_many_nums-len(min_set)))\n",
    "    else:\n",
    "        min_sum = sum(min_set)\n",
    "    return min_sum\n",
    "\n",
    "def find_max_sum(arr, how_many_nums):\n",
    "    max_sum = 0\n",
    "    max_set = set()\n",
    "    data_set = set(arr)\n",
    "    for _ in range(how_many_nums):\n",
    "        try:\n",
    "            max_set.add(max(data_set.difference(max_set)))\n",
    "        except:\n",
    "            break\n",
    "    if len(max_set) < how_many_nums:\n",
    "        max_sum = sum(max_set) + (sum(max_set) *(how_many_nums-len(max_set)))\n",
    "    else:\n",
    "        max_sum = sum(max_set)\n",
    "    return max_sum\n",
    "    \n",
    "def miniMaxSum(arr, n):\n",
    "    print (find_min_sum(arr, n), find_max_sum(arr, n)) "
   ]
  },
  {
   "cell_type": "code",
   "execution_count": 75,
   "id": "available-vitamin",
   "metadata": {},
   "outputs": [
    {
     "name": "stdout",
     "output_type": "stream",
     "text": [
      "20 20\n"
     ]
    }
   ],
   "source": [
    "miniMaxSum(data, 4)"
   ]
  },
  {
   "cell_type": "code",
   "execution_count": null,
   "id": "grave-belle",
   "metadata": {},
   "outputs": [],
   "source": []
  }
 ],
 "metadata": {
  "kernelspec": {
   "display_name": "Python [conda env:tensorflow] *",
   "language": "python",
   "name": "conda-env-tensorflow-py"
  },
  "language_info": {
   "codemirror_mode": {
    "name": "ipython",
    "version": 3
   },
   "file_extension": ".py",
   "mimetype": "text/x-python",
   "name": "python",
   "nbconvert_exporter": "python",
   "pygments_lexer": "ipython3",
   "version": "3.8.5"
  }
 },
 "nbformat": 4,
 "nbformat_minor": 5
}
