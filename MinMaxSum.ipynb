{
 "cells": [
  {
   "cell_type": "code",
   "execution_count": null,
   "id": "allied-redhead",
   "metadata": {},
   "outputs": [],
   "source": [
    "'''\n",
    "    인풋으로 N개의 정수로 된 어레이를 받아, 어레이에 속한 정해진 원소 수 n을 이용해서 \n",
    "    MINIMUM SUM과 MAXIMUM SUM을 계산합니다.\n",
    "    \n",
    "    HACKERRANK 문제입니다.\n",
    "''' "
   ]
  },
  {
   "cell_type": "code",
   "execution_count": 11,
   "id": "positive-myanmar",
   "metadata": {},
   "outputs": [],
   "source": [
    "import random"
   ]
  },
  {
   "cell_type": "code",
   "execution_count": 12,
   "id": "choice-mention",
   "metadata": {},
   "outputs": [],
   "source": [
    "data = random.sample(range(1, 10000), 10)"
   ]
  },
  {
   "cell_type": "code",
   "execution_count": 13,
   "id": "palestinian-sentence",
   "metadata": {},
   "outputs": [
    {
     "data": {
      "text/plain": [
       "[1519, 4881, 6465, 1952, 7620, 6042, 8324, 8555, 2551, 7607]"
      ]
     },
     "execution_count": 13,
     "metadata": {},
     "output_type": "execute_result"
    }
   ],
   "source": [
    "data"
   ]
  },
  {
   "cell_type": "code",
   "execution_count": 24,
   "id": "nervous-proportion",
   "metadata": {},
   "outputs": [],
   "source": [
    "def get_min_set(arr, how_many_nums):\n",
    "    min_sum = 0\n",
    "    min_set = set()\n",
    "    data_set = set(arr)\n",
    "    for _ in range(how_many_nums):\n",
    "        try:\n",
    "            min_set.add(min(data_set.difference(min_set)))   \n",
    "        except:\n",
    "            break\n",
    "    return min_set\n",
    "\n",
    "def get_max_set(arr, how_many_nums):\n",
    "    max_sum = 0\n",
    "    max_set = set()\n",
    "    data_set = set(arr)\n",
    "    for _ in range(how_many_nums):\n",
    "        try:\n",
    "            max_set.add(max(data_set.difference(max_set)))\n",
    "        except:\n",
    "            break\n",
    "    return max_set\n",
    "            \n",
    "def get_sum(a_set, how_many_nums):\n",
    "    if len(a_set) < how_many_nums:\n",
    "        set_sum = sum(a_set) + (sum(a_set) *(how_many_nums-len(a_set)))\n",
    "    else:\n",
    "        set_sum = sum(a_set)\n",
    "    return set_sum\n",
    "    \n",
    "def minMaxSum(data, n):\n",
    "    min_sum = get_sum(get_min_set(data, n), n)\n",
    "    max_sum = get_sum(get_max_set(data, n), n)\n",
    "    return min_sum, max_sum"
   ]
  },
  {
   "cell_type": "code",
   "execution_count": 25,
   "id": "excessive-restoration",
   "metadata": {},
   "outputs": [],
   "source": [
    "min_sum, max_sum = minMaxSum(data, 5)"
   ]
  },
  {
   "cell_type": "code",
   "execution_count": 26,
   "id": "neutral-security",
   "metadata": {},
   "outputs": [
    {
     "name": "stdout",
     "output_type": "stream",
     "text": [
      "16945 38571\n"
     ]
    }
   ],
   "source": [
    "print (min_sum, max_sum)"
   ]
  },
  {
   "cell_type": "code",
   "execution_count": null,
   "id": "czech-cooking",
   "metadata": {},
   "outputs": [],
   "source": []
  }
 ],
 "metadata": {
  "kernelspec": {
   "display_name": "Python [conda env:tensorflow] *",
   "language": "python",
   "name": "conda-env-tensorflow-py"
  },
  "language_info": {
   "codemirror_mode": {
    "name": "ipython",
    "version": 3
   },
   "file_extension": ".py",
   "mimetype": "text/x-python",
   "name": "python",
   "nbconvert_exporter": "python",
   "pygments_lexer": "ipython3",
   "version": "3.8.5"
  }
 },
 "nbformat": 4,
 "nbformat_minor": 5
}
