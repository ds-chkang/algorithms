{
 "cells": [
  {
   "cell_type": "code",
   "execution_count": 1,
   "id": "palestinian-basis",
   "metadata": {},
   "outputs": [],
   "source": [
    "# 주어진 어레이의 원소들을 오른쪽으로 k번 로테이션 했을 때, 어레이 원소를 쿼리 하는 솔루션입니다.\n",
    "# HackerRank의 문제이고, 난이도는 easy라고 되어 있는데, easy 수준은 아닌 듯 합니다.\n",
    "# 코딩할 때, 로직도 중요하지만, Computing Time 이 조건으로 들어가 있습니다.\n",
    "# 시간 복잡도는 O(n)"
   ]
  },
  {
   "cell_type": "code",
   "execution_count": null,
   "id": "talented-classroom",
   "metadata": {},
   "outputs": [],
   "source": [
    "def circularArrayRotation(a, k, queries):\n",
    "    n=len(a)\n",
    "\n",
    "    ans=[]\n",
    "    for q in queries:\n",
    "        ans.append(a[(n-k+q)%n])\n",
    "\n",
    "    return ans"
   ]
  }
 ],
 "metadata": {
  "kernelspec": {
   "display_name": "Python [conda env:tensorflow] *",
   "language": "python",
   "name": "conda-env-tensorflow-py"
  },
  "language_info": {
   "codemirror_mode": {
    "name": "ipython",
    "version": 3
   },
   "file_extension": ".py",
   "mimetype": "text/x-python",
   "name": "python",
   "nbconvert_exporter": "python",
   "pygments_lexer": "ipython3",
   "version": "3.8.5"
  }
 },
 "nbformat": 4,
 "nbformat_minor": 5
}
