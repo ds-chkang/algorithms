{
 "cells": [
  {
   "cell_type": "code",
   "execution_count": 1,
   "id": "driven-partition",
   "metadata": {},
   "outputs": [],
   "source": [
    "# RIGHT-JUSTIFIED STAIR CASE 만들기"
   ]
  },
  {
   "cell_type": "code",
   "execution_count": 2,
   "id": "nasty-preservation",
   "metadata": {},
   "outputs": [],
   "source": [
    "def staircase(n):\n",
    "    for stair in range(n):\n",
    "        stair_img = ''\n",
    "        for _ in range((n-1)-stair):\n",
    "            stair_img += ' '    \n",
    "        \n",
    "        for _ in range(stair+1):\n",
    "            stair_img += '#'\n",
    "        \n",
    "        print (stair_img)"
   ]
  },
  {
   "cell_type": "code",
   "execution_count": 3,
   "id": "happy-melissa",
   "metadata": {},
   "outputs": [
    {
     "name": "stdout",
     "output_type": "stream",
     "text": [
      "     #\n",
      "    ##\n",
      "   ###\n",
      "  ####\n",
      " #####\n",
      "######\n"
     ]
    }
   ],
   "source": [
    "staircase(6)"
   ]
  },
  {
   "cell_type": "code",
   "execution_count": null,
   "id": "ruled-ordinary",
   "metadata": {},
   "outputs": [],
   "source": []
  }
 ],
 "metadata": {
  "kernelspec": {
   "display_name": "Python [conda env:tensorflow] *",
   "language": "python",
   "name": "conda-env-tensorflow-py"
  },
  "language_info": {
   "codemirror_mode": {
    "name": "ipython",
    "version": 3
   },
   "file_extension": ".py",
   "mimetype": "text/x-python",
   "name": "python",
   "nbconvert_exporter": "python",
   "pygments_lexer": "ipython3",
   "version": "3.8.5"
  }
 },
 "nbformat": 4,
 "nbformat_minor": 5
}
