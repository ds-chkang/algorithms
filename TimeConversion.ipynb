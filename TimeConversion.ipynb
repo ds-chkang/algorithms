{
 "cells": [
  {
   "cell_type": "code",
   "execution_count": 1,
   "id": "varied-italic",
   "metadata": {},
   "outputs": [],
   "source": [
    "# 12 시간으로 계산하는 일반 시간을 Military Time으로 변경하기."
   ]
  },
  {
   "cell_type": "code",
   "execution_count": 3,
   "id": "monetary-camcorder",
   "metadata": {},
   "outputs": [],
   "source": [
    "data = '07:05:45PM'"
   ]
  },
  {
   "cell_type": "code",
   "execution_count": 4,
   "id": "lesser-spider",
   "metadata": {},
   "outputs": [],
   "source": [
    "def timeConversion(s):\n",
    "    military_time = ''\n",
    "    if s.startswith('12') and s.endswith('AM'):\n",
    "        military_time = '00'+s[2:(len(s)-2)]\n",
    "    elif s.startswith('12') and s.endswith('PM'):\n",
    "        military_time = s[:(len(s)-2)]\n",
    "    elif s.endswith('PM'):    \n",
    "        military_time = str(int(s[0]+s[1])+12)+s[2:len(s)-2]    \n",
    "    else:\n",
    "        military_time = s[:len(s)-2]    \n",
    "    return military_time   "
   ]
  },
  {
   "cell_type": "code",
   "execution_count": 5,
   "id": "cross-prime",
   "metadata": {},
   "outputs": [],
   "source": [
    "result = timeConversion(data)"
   ]
  },
  {
   "cell_type": "code",
   "execution_count": 6,
   "id": "inappropriate-instrument",
   "metadata": {},
   "outputs": [
    {
     "data": {
      "text/plain": [
       "'19:05:45'"
      ]
     },
     "execution_count": 6,
     "metadata": {},
     "output_type": "execute_result"
    }
   ],
   "source": [
    "result"
   ]
  },
  {
   "cell_type": "code",
   "execution_count": null,
   "id": "studied-center",
   "metadata": {},
   "outputs": [],
   "source": []
  }
 ],
 "metadata": {
  "kernelspec": {
   "display_name": "Python [conda env:tensorflow] *",
   "language": "python",
   "name": "conda-env-tensorflow-py"
  },
  "language_info": {
   "codemirror_mode": {
    "name": "ipython",
    "version": 3
   },
   "file_extension": ".py",
   "mimetype": "text/x-python",
   "name": "python",
   "nbconvert_exporter": "python",
   "pygments_lexer": "ipython3",
   "version": "3.8.5"
  }
 },
 "nbformat": 4,
 "nbformat_minor": 5
}
