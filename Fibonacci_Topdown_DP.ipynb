{
 "cells": [
  {
   "cell_type": "code",
   "execution_count": 39,
   "id": "double-indie",
   "metadata": {},
   "outputs": [],
   "source": [
    "dp = [0]*2001"
   ]
  },
  {
   "cell_type": "code",
   "execution_count": 40,
   "id": "pregnant-brick",
   "metadata": {},
   "outputs": [],
   "source": [
    "def fibonacci(number):\n",
    "    if number == 0:\n",
    "        return 0\n",
    "    elif number == 1:\n",
    "        return 1\n",
    "    if dp[number] != 0:\n",
    "        return dp[number]\n",
    "    dp[number] = fibonacci(number-1) + fibonacci(number-2)\n",
    "    return dp[number]"
   ]
  },
  {
   "cell_type": "code",
   "execution_count": 48,
   "id": "scientific-saturn",
   "metadata": {},
   "outputs": [
    {
     "data": {
      "text/plain": [
       "218922995834555169026"
      ]
     },
     "execution_count": 48,
     "metadata": {},
     "output_type": "execute_result"
    }
   ],
   "source": [
    "fibonacci(99)"
   ]
  },
  {
   "cell_type": "code",
   "execution_count": null,
   "id": "other-rogers",
   "metadata": {},
   "outputs": [],
   "source": []
  }
 ],
 "metadata": {
  "kernelspec": {
   "display_name": "Python [conda env:tensorflow] *",
   "language": "python",
   "name": "conda-env-tensorflow-py"
  },
  "language_info": {
   "codemirror_mode": {
    "name": "ipython",
    "version": 3
   },
   "file_extension": ".py",
   "mimetype": "text/x-python",
   "name": "python",
   "nbconvert_exporter": "python",
   "pygments_lexer": "ipython3",
   "version": "3.8.5"
  }
 },
 "nbformat": 4,
 "nbformat_minor": 5
}
