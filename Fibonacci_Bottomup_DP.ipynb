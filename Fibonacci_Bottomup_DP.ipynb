{
 "cells": [
  {
   "cell_type": "code",
   "execution_count": 13,
   "id": "alpha-landing",
   "metadata": {},
   "outputs": [],
   "source": [
    "dp = [0]*100"
   ]
  },
  {
   "cell_type": "code",
   "execution_count": 14,
   "id": "casual-stamp",
   "metadata": {},
   "outputs": [],
   "source": [
    "dp[0] = 0\n",
    "dp[1] = 1\n",
    "query = 99"
   ]
  },
  {
   "cell_type": "code",
   "execution_count": 17,
   "id": "frozen-christmas",
   "metadata": {},
   "outputs": [],
   "source": [
    "for i in range(2, query+1):\n",
    "    dp[i] = dp[i-1] + dp[i-2]"
   ]
  },
  {
   "cell_type": "code",
   "execution_count": 18,
   "id": "distinct-nancy",
   "metadata": {},
   "outputs": [
    {
     "name": "stdout",
     "output_type": "stream",
     "text": [
      "218922995834555169026\n"
     ]
    }
   ],
   "source": [
    "print (dp[query])"
   ]
  },
  {
   "cell_type": "code",
   "execution_count": null,
   "id": "special-action",
   "metadata": {},
   "outputs": [],
   "source": []
  }
 ],
 "metadata": {
  "kernelspec": {
   "display_name": "Python [conda env:tensorflow] *",
   "language": "python",
   "name": "conda-env-tensorflow-py"
  },
  "language_info": {
   "codemirror_mode": {
    "name": "ipython",
    "version": 3
   },
   "file_extension": ".py",
   "mimetype": "text/x-python",
   "name": "python",
   "nbconvert_exporter": "python",
   "pygments_lexer": "ipython3",
   "version": "3.8.5"
  }
 },
 "nbformat": 4,
 "nbformat_minor": 5
}
