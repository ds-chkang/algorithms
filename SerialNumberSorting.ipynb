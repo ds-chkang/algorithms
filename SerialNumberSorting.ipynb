{
  "nbformat": 4,
  "nbformat_minor": 0,
  "metadata": {
    "colab": {
      "name": "SerialNumberSorting.ipynb",
      "provenance": [],
      "collapsed_sections": []
    },
    "kernelspec": {
      "name": "python3",
      "display_name": "Python 3"
    }
  },
  "cells": [
    {
      "cell_type": "code",
      "metadata": {
        "id": "BBpouQGl8aXn"
      },
      "source": [
        "# 백준 온라인 코딩 테스트 기타 시리얼 넘버 소팅 솔루션입니다.\n",
        "# 소팅 조건은 \n",
        "# 1. 길이가 짧은 시리얼 넘버가 앞으로 간다.\n",
        "# 2. 길이가 같으면 시리얼 넘버에 있는 숫자의 합이 작은 시리얼 넘버가 앞으로 가고\n",
        "# 3. 길이가 같고 시리얼 넘버에 있는 숫자의 합이 같으면 시리얼 넘버의 문자(ascii 넘버)를 비교하여 앞.뒤 순서를 결정한다."
      ],
      "execution_count": 551,
      "outputs": []
    },
    {
      "cell_type": "code",
      "metadata": {
        "id": "V8ll1o0g5Z0A"
      },
      "source": [
        "# 시리얼 넘버.\n",
        "serials = [\n",
        "           \"ABCE\",\n",
        "           \"ABCD\",\n",
        "           \"145C\",\n",
        "           \"A\",\n",
        "           \"A910\",\n",
        "           \"Z321\",\n",
        "           \"A321\"\n",
        "]"
      ],
      "execution_count": null,
      "outputs": []
    },
    {
      "cell_type": "code",
      "metadata": {
        "id": "nF7LsKLE-8qE"
      },
      "source": [
        "# 소팅 알고리즘.\n",
        "# 소팅에는 버블소트가 사용되었습니다. O(N^2)\n",
        "def order_serials(serials):\n",
        "  for i in range(0, len(serials)-1):\n",
        "    for j in range(0, len(serials)-(1+i)):\n",
        "      if len(serials[j]) > len(serials[j+1]): #길이가 짧은 시리얼을 앞으로 보냄.\n",
        "        swap(j, j+1, serials)\n",
        "      elif len(serials[j]) == len(serials[j+1]): # 길이가 같을 때.\n",
        "        a = get_sum(serials[j])\n",
        "        b = get_sum(serials[j+1])\n",
        "        if a > b: # 앞의 시리얼의 합이 크면 바꾸기.\n",
        "          swap(j, j+1, serials)\n",
        "        elif a == b: # 알파벳 순서로 배치.\n",
        "          for k in range(len(serials[j])):\n",
        "            if serials[j][k] < serials[j+1][k]:\n",
        "              break;\n",
        "            elif serials[j][k] > serials[j+1][k]:\n",
        "              swap(j, j+1, serials)\n",
        "              break;"
      ],
      "execution_count": 552,
      "outputs": []
    },
    {
      "cell_type": "code",
      "metadata": {
        "id": "0fPVatRu_N7o"
      },
      "source": [
        "# 시리얼에 있는 숫자의 합 계산.\n",
        "def get_sum(serial):\n",
        "  serial_sum = 0\n",
        "  for i in range(len(serial)):\n",
        "    if serial[i] >= '0' and serial[i] <= '9':\n",
        "      serial_sum += int(serial[i])\n",
        "  return serial_sum"
      ],
      "execution_count": 443,
      "outputs": []
    },
    {
      "cell_type": "code",
      "metadata": {
        "id": "KPho4yD89QYp"
      },
      "source": [
        "# 시리얼 넘버 위치 교환.\n",
        "def swap(j, k, serials):\n",
        "  tmp = serials[j]\n",
        "  serials[j] = serials[k]\n",
        "  serials[k] = tmp"
      ],
      "execution_count": 444,
      "outputs": []
    },
    {
      "cell_type": "code",
      "metadata": {
        "id": "a2EZ8VBf4T1L"
      },
      "source": [
        "order_serials(serials)"
      ],
      "execution_count": 553,
      "outputs": []
    },
    {
      "cell_type": "code",
      "metadata": {
        "colab": {
          "base_uri": "https://localhost:8080/"
        },
        "id": "Oq-Dusph4Wpq",
        "outputId": "2aa9870f-3fbd-42fd-9810-49f4ff3fc94f"
      },
      "source": [
        "serials"
      ],
      "execution_count": 554,
      "outputs": [
        {
          "output_type": "execute_result",
          "data": {
            "text/plain": [
              "['A', 'ABCD', 'ABCE', 'A321', 'Z321', '145C', 'A910']"
            ]
          },
          "metadata": {
            "tags": []
          },
          "execution_count": 554
        }
      ]
    }
  ]
}
